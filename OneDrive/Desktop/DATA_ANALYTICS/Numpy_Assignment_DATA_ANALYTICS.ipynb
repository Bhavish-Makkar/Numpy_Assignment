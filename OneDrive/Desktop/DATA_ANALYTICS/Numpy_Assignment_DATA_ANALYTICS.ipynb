{
  "nbformat": 4,
  "nbformat_minor": 0,
  "metadata": {
    "colab": {
      "provenance": []
    },
    "kernelspec": {
      "name": "python3",
      "display_name": "Python 3"
    },
    "language_info": {
      "name": "python"
    }
  },
  "cells": [
    {
      "cell_type": "code",
      "source": [
        "import numpy as np"
      ],
      "metadata": {
        "id": "xlK2OdxiMc0G"
      },
      "execution_count": null,
      "outputs": []
    },
    {
      "cell_type": "markdown",
      "source": [
        "**Create a NumPy array 'arr' of integers from 0 to 5 and print its data type**"
      ],
      "metadata": {
        "id": "Pd8MFnqVL46P"
      }
    },
    {
      "cell_type": "code",
      "source": [
        "arr=np.arange(0,5)"
      ],
      "metadata": {
        "id": "yQf-n02jMSUJ"
      },
      "execution_count": null,
      "outputs": []
    },
    {
      "cell_type": "code",
      "source": [
        "arr"
      ],
      "metadata": {
        "colab": {
          "base_uri": "https://localhost:8080/"
        },
        "id": "ZWahln7HMVez",
        "outputId": "39267c41-a06a-4ae2-b446-be3db456a65c"
      },
      "execution_count": null,
      "outputs": [
        {
          "output_type": "execute_result",
          "data": {
            "text/plain": [
              "array([0, 1, 2, 3, 4])"
            ]
          },
          "metadata": {},
          "execution_count": 4
        }
      ]
    },
    {
      "cell_type": "code",
      "source": [
        "arr.dtype"
      ],
      "metadata": {
        "colab": {
          "base_uri": "https://localhost:8080/"
        },
        "id": "UmI9wY4NMWdL",
        "outputId": "5f034daf-057f-4477-86da-832393b18fdb"
      },
      "execution_count": null,
      "outputs": [
        {
          "output_type": "execute_result",
          "data": {
            "text/plain": [
              "dtype('int64')"
            ]
          },
          "metadata": {},
          "execution_count": 5
        }
      ]
    },
    {
      "cell_type": "markdown",
      "source": [
        "**Given a NumPy array 'arr', check if its data type is float64.**\n"
      ],
      "metadata": {
        "id": "E0_Cy0QNMXwN"
      }
    },
    {
      "cell_type": "code",
      "source": [
        "arr=np.array([1.5,2.6,3.7])"
      ],
      "metadata": {
        "id": "Du21qiOSMry0"
      },
      "execution_count": null,
      "outputs": []
    },
    {
      "cell_type": "code",
      "source": [
        "arr.dtype"
      ],
      "metadata": {
        "colab": {
          "base_uri": "https://localhost:8080/"
        },
        "id": "LRxzSGnEMyeF",
        "outputId": "63c63d6d-a08d-48f9-8777-163856680a7b"
      },
      "execution_count": null,
      "outputs": [
        {
          "output_type": "execute_result",
          "data": {
            "text/plain": [
              "dtype('float64')"
            ]
          },
          "metadata": {},
          "execution_count": 7
        }
      ]
    },
    {
      "cell_type": "markdown",
      "source": [
        "**Create a NumPy array 'arr' with a data type of complex128 containing three complex numbers.**"
      ],
      "metadata": {
        "id": "cfO3xTn2NNku"
      }
    },
    {
      "cell_type": "code",
      "source": [
        "arr=np.array([1,2,3],dtype=np.complex128)"
      ],
      "metadata": {
        "id": "-zsuFw8AMz0t"
      },
      "execution_count": null,
      "outputs": []
    },
    {
      "cell_type": "code",
      "source": [
        "arr"
      ],
      "metadata": {
        "colab": {
          "base_uri": "https://localhost:8080/"
        },
        "id": "VO27D84-M-3P",
        "outputId": "0718a7fa-c5cf-4d10-8291-f880f3635c9c"
      },
      "execution_count": null,
      "outputs": [
        {
          "output_type": "execute_result",
          "data": {
            "text/plain": [
              "array([1.+0.j, 2.+0.j, 3.+0.j])"
            ]
          },
          "metadata": {},
          "execution_count": 9
        }
      ]
    },
    {
      "cell_type": "markdown",
      "source": [
        "**Convert an existing NumPy array 'arr' of integers to float32 data type.**"
      ],
      "metadata": {
        "id": "lJ5R1lkCNKrZ"
      }
    },
    {
      "cell_type": "code",
      "source": [
        "arr1=arr.astype(np.float32)"
      ],
      "metadata": {
        "colab": {
          "base_uri": "https://localhost:8080/"
        },
        "id": "lrWx-HVMNfQ0",
        "outputId": "6426cc3e-dda2-44f7-df5f-de78607cfa61"
      },
      "execution_count": null,
      "outputs": [
        {
          "output_type": "stream",
          "name": "stderr",
          "text": [
            "<ipython-input-10-24bf9ab11c70>:1: ComplexWarning: Casting complex values to real discards the imaginary part\n",
            "  arr1=arr.astype(np.float32)\n"
          ]
        }
      ]
    },
    {
      "cell_type": "code",
      "source": [
        "arr1"
      ],
      "metadata": {
        "colab": {
          "base_uri": "https://localhost:8080/"
        },
        "id": "oOGCHikxNjzr",
        "outputId": "bad1923c-179b-4829-8a46-759ffe89b05a"
      },
      "execution_count": null,
      "outputs": [
        {
          "output_type": "execute_result",
          "data": {
            "text/plain": [
              "array([1., 2., 3.], dtype=float32)"
            ]
          },
          "metadata": {},
          "execution_count": 11
        }
      ]
    },
    {
      "cell_type": "markdown",
      "source": [
        "**Given a NumPy array 'arr' with float64 data type, convert it to float32 to reduce decimal precision.**"
      ],
      "metadata": {
        "id": "sVr1hOxSNpcS"
      }
    },
    {
      "cell_type": "code",
      "source": [
        "arr=np.arange(1,10,dtype=np.float64)"
      ],
      "metadata": {
        "id": "sG-NYkbxNx25"
      },
      "execution_count": null,
      "outputs": []
    },
    {
      "cell_type": "code",
      "source": [
        "arr.astype(np.float32)"
      ],
      "metadata": {
        "colab": {
          "base_uri": "https://localhost:8080/"
        },
        "id": "hLGQSUlwN2AA",
        "outputId": "db9c18de-b95a-451e-8d96-f366ceadcbc8"
      },
      "execution_count": null,
      "outputs": [
        {
          "output_type": "execute_result",
          "data": {
            "text/plain": [
              "array([1., 2., 3., 4., 5., 6., 7., 8., 9.], dtype=float32)"
            ]
          },
          "metadata": {},
          "execution_count": 13
        }
      ]
    },
    {
      "cell_type": "markdown",
      "source": [
        "**Write a function array_attributes that takes a NumPy array as input and returns its shape, size, and data\n",
        "type.**"
      ],
      "metadata": {
        "id": "97PhzY9aN7pz"
      }
    },
    {
      "cell_type": "code",
      "source": [
        "def array_attributes(arr):\n",
        "  return arr.shape,arr.size,arr.dtype"
      ],
      "metadata": {
        "id": "yb-tSbiZOBg_"
      },
      "execution_count": null,
      "outputs": []
    },
    {
      "cell_type": "code",
      "source": [
        "array_attributes(np.array([1,2,3,4,5]))"
      ],
      "metadata": {
        "colab": {
          "base_uri": "https://localhost:8080/"
        },
        "id": "A_4kLGKdONzm",
        "outputId": "774dc232-f44f-4e24-f0f8-0b09d50ced75"
      },
      "execution_count": null,
      "outputs": [
        {
          "output_type": "execute_result",
          "data": {
            "text/plain": [
              "((5,), 5, dtype('int64'))"
            ]
          },
          "metadata": {},
          "execution_count": 15
        }
      ]
    },
    {
      "cell_type": "markdown",
      "source": [
        "**Create a function array_dimension that takes a NumPy array as input and returns its dimensionality.**"
      ],
      "metadata": {
        "id": "hWLR7P3xOTIR"
      }
    },
    {
      "cell_type": "code",
      "source": [
        "def array_dimension(arr):\n",
        "  return arr.ndim"
      ],
      "metadata": {
        "id": "SzrofPiBOdse"
      },
      "execution_count": null,
      "outputs": []
    },
    {
      "cell_type": "code",
      "source": [
        "array_dimension(np.array([1,2,3,4,5]))"
      ],
      "metadata": {
        "colab": {
          "base_uri": "https://localhost:8080/"
        },
        "id": "lcuzlqTDOkxb",
        "outputId": "f8c13725-f7d4-4c0a-c7aa-180687328fa1"
      },
      "execution_count": null,
      "outputs": [
        {
          "output_type": "execute_result",
          "data": {
            "text/plain": [
              "1"
            ]
          },
          "metadata": {},
          "execution_count": 17
        }
      ]
    },
    {
      "cell_type": "markdown",
      "source": [
        "** Design a function item_size_info that takes a NumPy array as input and returns the item size and the total\n",
        "size in bytes**"
      ],
      "metadata": {
        "id": "qfoAGeXDOoBp"
      }
    },
    {
      "cell_type": "code",
      "source": [
        "def function_item_size_info(arr):\n",
        "  return arr.itemsize,arr.size*arr.itemsize"
      ],
      "metadata": {
        "id": "oP7EC2K_Owwa"
      },
      "execution_count": null,
      "outputs": []
    },
    {
      "cell_type": "code",
      "source": [
        "function_item_size_info(np.array([1,2,3,4,5]))"
      ],
      "metadata": {
        "colab": {
          "base_uri": "https://localhost:8080/"
        },
        "id": "BsfUcwGLPDC9",
        "outputId": "4e920e0c-938d-40bc-ca6c-f02b33884a51"
      },
      "execution_count": null,
      "outputs": [
        {
          "output_type": "execute_result",
          "data": {
            "text/plain": [
              "(8, 40)"
            ]
          },
          "metadata": {},
          "execution_count": 19
        }
      ]
    },
    {
      "cell_type": "markdown",
      "source": [
        "**Create a function array_strides that takes a NumPy array as input and returns the strides of the array.**"
      ],
      "metadata": {
        "id": "AuVzGr4FPIhB"
      }
    },
    {
      "cell_type": "code",
      "source": [
        "def array_strides(arr):\n",
        " return  arr.strides"
      ],
      "metadata": {
        "id": "wbF44TFRPnLO"
      },
      "execution_count": null,
      "outputs": []
    },
    {
      "cell_type": "code",
      "source": [
        "array_strides(np.array([1,2,3,4,5]))"
      ],
      "metadata": {
        "colab": {
          "base_uri": "https://localhost:8080/"
        },
        "id": "TuATAA-BP21i",
        "outputId": "d75dcfa6-088d-465a-e3be-375d85679b6d"
      },
      "execution_count": null,
      "outputs": [
        {
          "output_type": "execute_result",
          "data": {
            "text/plain": [
              "(8,)"
            ]
          },
          "metadata": {},
          "execution_count": 21
        }
      ]
    },
    {
      "cell_type": "markdown",
      "source": [
        "**Design a function shape_stride_relationship that takes a NumPy array as input and returns the shape\n",
        "and strides of the array**"
      ],
      "metadata": {
        "id": "IXbcg2LOP9GC"
      }
    },
    {
      "cell_type": "code",
      "source": [
        "def shape_stride_relationship(arr):\n",
        "  return arr.shape,arr.strides"
      ],
      "metadata": {
        "id": "PpI6x_FvQH54"
      },
      "execution_count": null,
      "outputs": []
    },
    {
      "cell_type": "code",
      "source": [
        "shape_stride_relationship(np.ones((1,2)))"
      ],
      "metadata": {
        "colab": {
          "base_uri": "https://localhost:8080/"
        },
        "id": "F65oKcUOQQ4A",
        "outputId": "1eba2b83-019a-48aa-9fd4-19d39e24a6f9"
      },
      "execution_count": null,
      "outputs": [
        {
          "output_type": "execute_result",
          "data": {
            "text/plain": [
              "((1, 2), (16, 8))"
            ]
          },
          "metadata": {},
          "execution_count": 23
        }
      ]
    },
    {
      "cell_type": "markdown",
      "source": [
        "** Create a function `create_zeros_array` that takes an integer `n` as input and returns a NumPy array of\n",
        "zeros with `n` elements.**"
      ],
      "metadata": {
        "id": "FMw51jMUQUPW"
      }
    },
    {
      "cell_type": "code",
      "source": [
        "def create_zeros_array(n):\n",
        "  return np.zeros(n)"
      ],
      "metadata": {
        "id": "ysS4o_idQfS8"
      },
      "execution_count": null,
      "outputs": []
    },
    {
      "cell_type": "code",
      "source": [
        "create_zeros_array(5)"
      ],
      "metadata": {
        "colab": {
          "base_uri": "https://localhost:8080/"
        },
        "id": "Ag1TtpN8QndO",
        "outputId": "dd148e40-1740-4e80-86cd-f4b717da00e7"
      },
      "execution_count": null,
      "outputs": [
        {
          "output_type": "execute_result",
          "data": {
            "text/plain": [
              "array([0., 0., 0., 0., 0.])"
            ]
          },
          "metadata": {},
          "execution_count": 25
        }
      ]
    },
    {
      "cell_type": "markdown",
      "source": [
        "**Write a function `create_ones_matrix` that takes integers `rows` and `cols` as inputs and generates a 2D\n",
        "NumPy array filled with ones of size `rows x cols`**"
      ],
      "metadata": {
        "id": "pdZRyM3WQpMS"
      }
    },
    {
      "cell_type": "code",
      "source": [
        "def create_ones_matrix(rows,column):\n",
        "  arr=np.ones((rows,column))\n",
        "  mat=np.matrix(arr)\n",
        "  return mat"
      ],
      "metadata": {
        "id": "-56C7PwIQ3EM"
      },
      "execution_count": null,
      "outputs": []
    },
    {
      "cell_type": "code",
      "source": [
        "create_ones_matrix(2,3)"
      ],
      "metadata": {
        "colab": {
          "base_uri": "https://localhost:8080/"
        },
        "id": "gchfBvvyRERq",
        "outputId": "18f83aaa-11f9-4037-eb17-899063ce6fc8"
      },
      "execution_count": null,
      "outputs": [
        {
          "output_type": "execute_result",
          "data": {
            "text/plain": [
              "matrix([[1., 1., 1.],\n",
              "        [1., 1., 1.]])"
            ]
          },
          "metadata": {},
          "execution_count": 27
        }
      ]
    },
    {
      "cell_type": "markdown",
      "source": [
        " **Write a function `generate_range_array` that takes three integers start, stop, and step as arguments and\n",
        "creates a NumPy array with a range starting from `start`, ending at stop (exclusive), and with the specified\n",
        "`step`.**"
      ],
      "metadata": {
        "id": "isyZShJBRIDL"
      }
    },
    {
      "cell_type": "code",
      "source": [
        "def genrate_range_array(start,stop,step):\n",
        "  return np.arange(start,stop,step)"
      ],
      "metadata": {
        "id": "sAfZw3v0RU8w"
      },
      "execution_count": null,
      "outputs": []
    },
    {
      "cell_type": "code",
      "source": [
        "genrate_range_array(1,5,1)"
      ],
      "metadata": {
        "colab": {
          "base_uri": "https://localhost:8080/"
        },
        "id": "Tlz3fRyfRnxZ",
        "outputId": "dee323e6-4b28-4902-a2ff-76a40ef206b4"
      },
      "execution_count": null,
      "outputs": [
        {
          "output_type": "execute_result",
          "data": {
            "text/plain": [
              "array([1, 2, 3, 4])"
            ]
          },
          "metadata": {},
          "execution_count": 29
        }
      ]
    },
    {
      "cell_type": "markdown",
      "source": [
        "**Design a function `generate_linear_space` that takes two floats `start`, `stop`, and an integer `num` as\n",
        "arguments and generates a NumPy array with num equally spaced values between `start` and `stop`\n",
        "(inclusive)**"
      ],
      "metadata": {
        "id": "AAdDdwcMRq56"
      }
    },
    {
      "cell_type": "code",
      "source": [
        "def genrate_linear_space(start,stop,nos):\n",
        "  return np.linspace(start,stop,nos)"
      ],
      "metadata": {
        "id": "o0TWE81PR59o"
      },
      "execution_count": null,
      "outputs": []
    },
    {
      "cell_type": "code",
      "source": [
        "genrate_linear_space(1,10,5)"
      ],
      "metadata": {
        "colab": {
          "base_uri": "https://localhost:8080/"
        },
        "id": "diZ4eHAeSG_C",
        "outputId": "1524a050-5f2e-49be-c459-7f475222f58a"
      },
      "execution_count": null,
      "outputs": [
        {
          "output_type": "execute_result",
          "data": {
            "text/plain": [
              "array([ 1.  ,  3.25,  5.5 ,  7.75, 10.  ])"
            ]
          },
          "metadata": {},
          "execution_count": 31
        }
      ]
    },
    {
      "cell_type": "markdown",
      "source": [
        "**Create a function `create_identity_matrix` that takes an integer `n` as input and generates a square\n",
        "identity matrix of size `n x n` using `numpy.eye`.**"
      ],
      "metadata": {
        "id": "xvAFIuHKSL-h"
      }
    },
    {
      "cell_type": "code",
      "source": [
        "def create_identity_matrix(n):\n",
        "  return np.eye(n)"
      ],
      "metadata": {
        "id": "tLbtXnIbSWJf"
      },
      "execution_count": null,
      "outputs": []
    },
    {
      "cell_type": "code",
      "source": [
        "create_identity_matrix(5)"
      ],
      "metadata": {
        "colab": {
          "base_uri": "https://localhost:8080/"
        },
        "id": "Mk3rT0f_SbB7",
        "outputId": "d1cb7524-e003-4a08-8034-d781291e8826"
      },
      "execution_count": null,
      "outputs": [
        {
          "output_type": "execute_result",
          "data": {
            "text/plain": [
              "array([[1., 0., 0., 0., 0.],\n",
              "       [0., 1., 0., 0., 0.],\n",
              "       [0., 0., 1., 0., 0.],\n",
              "       [0., 0., 0., 1., 0.],\n",
              "       [0., 0., 0., 0., 1.]])"
            ]
          },
          "metadata": {},
          "execution_count": 33
        }
      ]
    },
    {
      "cell_type": "markdown",
      "source": [
        "**Write a function that takes a Python list and converts it into a NumPy array.**"
      ],
      "metadata": {
        "id": "c55JVrFsSc1r"
      }
    },
    {
      "cell_type": "code",
      "source": [
        "def listtoarray(lis):\n",
        "  return np.array(lis)"
      ],
      "metadata": {
        "id": "YGS7Tp6cSloY"
      },
      "execution_count": null,
      "outputs": []
    },
    {
      "cell_type": "code",
      "source": [
        "listtoarray([1,2,3,4,5])"
      ],
      "metadata": {
        "colab": {
          "base_uri": "https://localhost:8080/"
        },
        "id": "CYOqA_MsStj4",
        "outputId": "1cf6a8b5-bf26-47f0-cea2-3229648ea7bf"
      },
      "execution_count": null,
      "outputs": [
        {
          "output_type": "execute_result",
          "data": {
            "text/plain": [
              "array([1, 2, 3, 4, 5])"
            ]
          },
          "metadata": {},
          "execution_count": 35
        }
      ]
    },
    {
      "cell_type": "markdown",
      "source": [
        "**Create a NumPy array and demonstrate the use of `numpy.view` to create a new array object with the\n",
        "same data.**\n"
      ],
      "metadata": {
        "id": "MhpTSuemSwXr"
      }
    },
    {
      "cell_type": "code",
      "source": [
        "arr=np.arange(1,10,2)"
      ],
      "metadata": {
        "id": "XucOCyHVS_iV"
      },
      "execution_count": null,
      "outputs": []
    },
    {
      "cell_type": "code",
      "source": [
        "arr1=arr.view()"
      ],
      "metadata": {
        "id": "HWglIZvvTDFZ"
      },
      "execution_count": null,
      "outputs": []
    },
    {
      "cell_type": "code",
      "source": [
        "arr1"
      ],
      "metadata": {
        "colab": {
          "base_uri": "https://localhost:8080/"
        },
        "id": "yS8QzYgUTH2n",
        "outputId": "10a39aed-750e-4b36-d9a0-b167add15860"
      },
      "execution_count": null,
      "outputs": [
        {
          "output_type": "execute_result",
          "data": {
            "text/plain": [
              "array([1, 3, 5, 7, 9])"
            ]
          },
          "metadata": {},
          "execution_count": 38
        }
      ]
    },
    {
      "cell_type": "markdown",
      "source": [
        "**Write a function that takes two NumPy arrays and concatenates them along a specified axis**"
      ],
      "metadata": {
        "id": "1cPNXIxSTJvd"
      }
    },
    {
      "cell_type": "code",
      "source": [
        "def concat(arr1,arr2):\n",
        "  return np.concatenate((arr1,arr2),axis=0)"
      ],
      "metadata": {
        "id": "dOpuZWY2TpYV"
      },
      "execution_count": null,
      "outputs": []
    },
    {
      "cell_type": "code",
      "source": [
        "arr1=np.arange(1,10)\n",
        "arr2=np.arange(1,5)"
      ],
      "metadata": {
        "id": "rRS-CTYmTxEp"
      },
      "execution_count": null,
      "outputs": []
    },
    {
      "cell_type": "code",
      "source": [
        "concat(arr1,arr2)"
      ],
      "metadata": {
        "colab": {
          "base_uri": "https://localhost:8080/"
        },
        "id": "DoOKtia4T6Hc",
        "outputId": "d6d1e9be-7914-438e-8c90-969360a29da3"
      },
      "execution_count": null,
      "outputs": [
        {
          "output_type": "execute_result",
          "data": {
            "text/plain": [
              "array([1, 2, 3, 4, 5, 6, 7, 8, 9, 1, 2, 3, 4])"
            ]
          },
          "metadata": {},
          "execution_count": 41
        }
      ]
    },
    {
      "cell_type": "markdown",
      "source": [
        "**Write a function that takes two NumPy arrays and concatenates them along a specified axis**"
      ],
      "metadata": {
        "id": "g0owu5AmT74M"
      }
    },
    {
      "cell_type": "code",
      "source": [
        "arr=np.arange(1,5).reshape(2,2)"
      ],
      "metadata": {
        "id": "QgaXuSFOUTDv"
      },
      "execution_count": null,
      "outputs": []
    },
    {
      "cell_type": "code",
      "source": [
        "arr1=np.arange(1,9).reshape(4,2)"
      ],
      "metadata": {
        "id": "YZZLeG8IUc7P"
      },
      "execution_count": null,
      "outputs": []
    },
    {
      "cell_type": "code",
      "source": [
        "np.concatenate((arr,arr1),axis=0)"
      ],
      "metadata": {
        "colab": {
          "base_uri": "https://localhost:8080/"
        },
        "id": "RwLAeDMSUgKI",
        "outputId": "88b0966f-e354-40e4-92a5-97dfba61f8a0"
      },
      "execution_count": null,
      "outputs": [
        {
          "output_type": "execute_result",
          "data": {
            "text/plain": [
              "array([[1, 2],\n",
              "       [3, 4],\n",
              "       [1, 2],\n",
              "       [3, 4],\n",
              "       [5, 6],\n",
              "       [7, 8]])"
            ]
          },
          "metadata": {},
          "execution_count": 44
        }
      ]
    },
    {
      "cell_type": "markdown",
      "source": [
        "**Write a function that vertically stacks multiple NumPy arrays given as a list**"
      ],
      "metadata": {
        "id": "SF48bAicUqcR"
      }
    },
    {
      "cell_type": "code",
      "source": [
        "def verstack(lis1,lis2):\n",
        "  arr1=np.array(lis1)\n",
        "  arr2=np.array(lis2)\n",
        "  return np.vstack((arr1,arr2))"
      ],
      "metadata": {
        "id": "N7y5wQPRVvRW"
      },
      "execution_count": null,
      "outputs": []
    },
    {
      "cell_type": "code",
      "source": [
        "verstack(np.zeros((2,3)),np.ones((1,3)))"
      ],
      "metadata": {
        "colab": {
          "base_uri": "https://localhost:8080/"
        },
        "id": "CMhIzc_VWFLy",
        "outputId": "e9366e99-2925-4ac6-f658-fcd59a1eb389"
      },
      "execution_count": null,
      "outputs": [
        {
          "output_type": "execute_result",
          "data": {
            "text/plain": [
              "array([[0., 0., 0.],\n",
              "       [0., 0., 0.],\n",
              "       [1., 1., 1.]])"
            ]
          },
          "metadata": {},
          "execution_count": 46
        }
      ]
    },
    {
      "cell_type": "markdown",
      "source": [
        "**Write a Python function using NumPy to create an array of integers within a specified range (inclusive)\n",
        "with a given step size.**"
      ],
      "metadata": {
        "id": "ouFSsN2ZWQFI"
      }
    },
    {
      "cell_type": "code",
      "source": [
        "def array(start,stop,step):\n",
        "  return np.arange(start,stop+1,step)"
      ],
      "metadata": {
        "id": "Wj3-U4R8W5mf"
      },
      "execution_count": null,
      "outputs": []
    },
    {
      "cell_type": "code",
      "source": [
        "array(1,6,1)"
      ],
      "metadata": {
        "colab": {
          "base_uri": "https://localhost:8080/"
        },
        "id": "ZCbIqnpPXJAe",
        "outputId": "595800de-af4e-4ffd-e53e-c75e8a8a4cb5"
      },
      "execution_count": null,
      "outputs": [
        {
          "output_type": "execute_result",
          "data": {
            "text/plain": [
              "array([1, 2, 3, 4, 5, 6])"
            ]
          },
          "metadata": {},
          "execution_count": 48
        }
      ]
    },
    {
      "cell_type": "markdown",
      "source": [
        "**Write a Python function using NumPy to generate an array of 10 equally spaced values between 0 and 1\n",
        "(inclusive).**"
      ],
      "metadata": {
        "id": "OC0ztEPjXLCt"
      }
    },
    {
      "cell_type": "code",
      "source": [
        "def genrate_linear_space(start,stop,nos):\n",
        "  return np.linspace(start,stop,nos)"
      ],
      "metadata": {
        "id": "kXy8nI8oXaJT"
      },
      "execution_count": null,
      "outputs": []
    },
    {
      "cell_type": "code",
      "source": [
        "genrate_linear_space(0,1,10)"
      ],
      "metadata": {
        "colab": {
          "base_uri": "https://localhost:8080/"
        },
        "id": "WDb1KzEDYAP1",
        "outputId": "c64f28b3-9c65-4b91-b1c2-aa6310c959e2"
      },
      "execution_count": null,
      "outputs": [
        {
          "output_type": "execute_result",
          "data": {
            "text/plain": [
              "array([0.        , 0.11111111, 0.22222222, 0.33333333, 0.44444444,\n",
              "       0.55555556, 0.66666667, 0.77777778, 0.88888889, 1.        ])"
            ]
          },
          "metadata": {},
          "execution_count": 50
        }
      ]
    },
    {
      "cell_type": "markdown",
      "source": [
        "**Write a Python function using NumPy to create an array of 5 logarithmically spaced values between 1 and\n",
        "1000 (inclusive)**"
      ],
      "metadata": {
        "id": "WtctNvMHYDNm"
      }
    },
    {
      "cell_type": "code",
      "source": [
        "def logspace(start,stop,nos):\n",
        "  return np.logspace(start,stop,nos)"
      ],
      "metadata": {
        "id": "sOwv_ngNYZ-b"
      },
      "execution_count": null,
      "outputs": []
    },
    {
      "cell_type": "code",
      "source": [
        "logspace(1,10,5)"
      ],
      "metadata": {
        "colab": {
          "base_uri": "https://localhost:8080/"
        },
        "id": "ioT_GWP8YhlF",
        "outputId": "0d955961-7405-4a04-8c88-adf2e834cefb"
      },
      "execution_count": null,
      "outputs": [
        {
          "output_type": "execute_result",
          "data": {
            "text/plain": [
              "array([1.00000000e+01, 1.77827941e+03, 3.16227766e+05, 5.62341325e+07,\n",
              "       1.00000000e+10])"
            ]
          },
          "metadata": {},
          "execution_count": 52
        }
      ]
    },
    {
      "cell_type": "code",
      "source": [
        "import pandas as pd"
      ],
      "metadata": {
        "id": "0lkYz7bGYjrj"
      },
      "execution_count": null,
      "outputs": []
    },
    {
      "cell_type": "markdown",
      "source": [
        " **Create a Pandas DataFrame using a NumPy array that contains 5 rows and 3 columns, where the values\n",
        "are random integers between 1 and 100.**"
      ],
      "metadata": {
        "id": "2eUrYuuhY7FW"
      }
    },
    {
      "cell_type": "code",
      "source": [
        "arr=np.random.randint(1,100,(5,3))"
      ],
      "metadata": {
        "id": "29aLYy8KZBzI"
      },
      "execution_count": null,
      "outputs": []
    },
    {
      "cell_type": "code",
      "source": [
        "df=pd.DataFrame(arr)"
      ],
      "metadata": {
        "id": "XaSgTLJLZNIv"
      },
      "execution_count": null,
      "outputs": []
    },
    {
      "cell_type": "code",
      "source": [
        "df"
      ],
      "metadata": {
        "colab": {
          "base_uri": "https://localhost:8080/",
          "height": 206
        },
        "id": "omsUE2uYZQgx",
        "outputId": "7760e2d5-0cf0-43ee-d75d-5fa662ed4d10"
      },
      "execution_count": null,
      "outputs": [
        {
          "output_type": "execute_result",
          "data": {
            "text/plain": [
              "    0   1   2\n",
              "0  83  50  55\n",
              "1  69  23  68\n",
              "2  19  87  61\n",
              "3  31  49  85\n",
              "4  51  47  10"
            ],
            "text/html": [
              "\n",
              "  <div id=\"df-f75f717d-e682-4c17-ac51-71242c06af15\" class=\"colab-df-container\">\n",
              "    <div>\n",
              "<style scoped>\n",
              "    .dataframe tbody tr th:only-of-type {\n",
              "        vertical-align: middle;\n",
              "    }\n",
              "\n",
              "    .dataframe tbody tr th {\n",
              "        vertical-align: top;\n",
              "    }\n",
              "\n",
              "    .dataframe thead th {\n",
              "        text-align: right;\n",
              "    }\n",
              "</style>\n",
              "<table border=\"1\" class=\"dataframe\">\n",
              "  <thead>\n",
              "    <tr style=\"text-align: right;\">\n",
              "      <th></th>\n",
              "      <th>0</th>\n",
              "      <th>1</th>\n",
              "      <th>2</th>\n",
              "    </tr>\n",
              "  </thead>\n",
              "  <tbody>\n",
              "    <tr>\n",
              "      <th>0</th>\n",
              "      <td>83</td>\n",
              "      <td>50</td>\n",
              "      <td>55</td>\n",
              "    </tr>\n",
              "    <tr>\n",
              "      <th>1</th>\n",
              "      <td>69</td>\n",
              "      <td>23</td>\n",
              "      <td>68</td>\n",
              "    </tr>\n",
              "    <tr>\n",
              "      <th>2</th>\n",
              "      <td>19</td>\n",
              "      <td>87</td>\n",
              "      <td>61</td>\n",
              "    </tr>\n",
              "    <tr>\n",
              "      <th>3</th>\n",
              "      <td>31</td>\n",
              "      <td>49</td>\n",
              "      <td>85</td>\n",
              "    </tr>\n",
              "    <tr>\n",
              "      <th>4</th>\n",
              "      <td>51</td>\n",
              "      <td>47</td>\n",
              "      <td>10</td>\n",
              "    </tr>\n",
              "  </tbody>\n",
              "</table>\n",
              "</div>\n",
              "    <div class=\"colab-df-buttons\">\n",
              "\n",
              "  <div class=\"colab-df-container\">\n",
              "    <button class=\"colab-df-convert\" onclick=\"convertToInteractive('df-f75f717d-e682-4c17-ac51-71242c06af15')\"\n",
              "            title=\"Convert this dataframe to an interactive table.\"\n",
              "            style=\"display:none;\">\n",
              "\n",
              "  <svg xmlns=\"http://www.w3.org/2000/svg\" height=\"24px\" viewBox=\"0 -960 960 960\">\n",
              "    <path d=\"M120-120v-720h720v720H120Zm60-500h600v-160H180v160Zm220 220h160v-160H400v160Zm0 220h160v-160H400v160ZM180-400h160v-160H180v160Zm440 0h160v-160H620v160ZM180-180h160v-160H180v160Zm440 0h160v-160H620v160Z\"/>\n",
              "  </svg>\n",
              "    </button>\n",
              "\n",
              "  <style>\n",
              "    .colab-df-container {\n",
              "      display:flex;\n",
              "      gap: 12px;\n",
              "    }\n",
              "\n",
              "    .colab-df-convert {\n",
              "      background-color: #E8F0FE;\n",
              "      border: none;\n",
              "      border-radius: 50%;\n",
              "      cursor: pointer;\n",
              "      display: none;\n",
              "      fill: #1967D2;\n",
              "      height: 32px;\n",
              "      padding: 0 0 0 0;\n",
              "      width: 32px;\n",
              "    }\n",
              "\n",
              "    .colab-df-convert:hover {\n",
              "      background-color: #E2EBFA;\n",
              "      box-shadow: 0px 1px 2px rgba(60, 64, 67, 0.3), 0px 1px 3px 1px rgba(60, 64, 67, 0.15);\n",
              "      fill: #174EA6;\n",
              "    }\n",
              "\n",
              "    .colab-df-buttons div {\n",
              "      margin-bottom: 4px;\n",
              "    }\n",
              "\n",
              "    [theme=dark] .colab-df-convert {\n",
              "      background-color: #3B4455;\n",
              "      fill: #D2E3FC;\n",
              "    }\n",
              "\n",
              "    [theme=dark] .colab-df-convert:hover {\n",
              "      background-color: #434B5C;\n",
              "      box-shadow: 0px 1px 3px 1px rgba(0, 0, 0, 0.15);\n",
              "      filter: drop-shadow(0px 1px 2px rgba(0, 0, 0, 0.3));\n",
              "      fill: #FFFFFF;\n",
              "    }\n",
              "  </style>\n",
              "\n",
              "    <script>\n",
              "      const buttonEl =\n",
              "        document.querySelector('#df-f75f717d-e682-4c17-ac51-71242c06af15 button.colab-df-convert');\n",
              "      buttonEl.style.display =\n",
              "        google.colab.kernel.accessAllowed ? 'block' : 'none';\n",
              "\n",
              "      async function convertToInteractive(key) {\n",
              "        const element = document.querySelector('#df-f75f717d-e682-4c17-ac51-71242c06af15');\n",
              "        const dataTable =\n",
              "          await google.colab.kernel.invokeFunction('convertToInteractive',\n",
              "                                                    [key], {});\n",
              "        if (!dataTable) return;\n",
              "\n",
              "        const docLinkHtml = 'Like what you see? Visit the ' +\n",
              "          '<a target=\"_blank\" href=https://colab.research.google.com/notebooks/data_table.ipynb>data table notebook</a>'\n",
              "          + ' to learn more about interactive tables.';\n",
              "        element.innerHTML = '';\n",
              "        dataTable['output_type'] = 'display_data';\n",
              "        await google.colab.output.renderOutput(dataTable, element);\n",
              "        const docLink = document.createElement('div');\n",
              "        docLink.innerHTML = docLinkHtml;\n",
              "        element.appendChild(docLink);\n",
              "      }\n",
              "    </script>\n",
              "  </div>\n",
              "\n",
              "\n",
              "<div id=\"df-e957047d-c4a2-4689-b927-b2916f0f06f9\">\n",
              "  <button class=\"colab-df-quickchart\" onclick=\"quickchart('df-e957047d-c4a2-4689-b927-b2916f0f06f9')\"\n",
              "            title=\"Suggest charts\"\n",
              "            style=\"display:none;\">\n",
              "\n",
              "<svg xmlns=\"http://www.w3.org/2000/svg\" height=\"24px\"viewBox=\"0 0 24 24\"\n",
              "     width=\"24px\">\n",
              "    <g>\n",
              "        <path d=\"M19 3H5c-1.1 0-2 .9-2 2v14c0 1.1.9 2 2 2h14c1.1 0 2-.9 2-2V5c0-1.1-.9-2-2-2zM9 17H7v-7h2v7zm4 0h-2V7h2v10zm4 0h-2v-4h2v4z\"/>\n",
              "    </g>\n",
              "</svg>\n",
              "  </button>\n",
              "\n",
              "<style>\n",
              "  .colab-df-quickchart {\n",
              "      --bg-color: #E8F0FE;\n",
              "      --fill-color: #1967D2;\n",
              "      --hover-bg-color: #E2EBFA;\n",
              "      --hover-fill-color: #174EA6;\n",
              "      --disabled-fill-color: #AAA;\n",
              "      --disabled-bg-color: #DDD;\n",
              "  }\n",
              "\n",
              "  [theme=dark] .colab-df-quickchart {\n",
              "      --bg-color: #3B4455;\n",
              "      --fill-color: #D2E3FC;\n",
              "      --hover-bg-color: #434B5C;\n",
              "      --hover-fill-color: #FFFFFF;\n",
              "      --disabled-bg-color: #3B4455;\n",
              "      --disabled-fill-color: #666;\n",
              "  }\n",
              "\n",
              "  .colab-df-quickchart {\n",
              "    background-color: var(--bg-color);\n",
              "    border: none;\n",
              "    border-radius: 50%;\n",
              "    cursor: pointer;\n",
              "    display: none;\n",
              "    fill: var(--fill-color);\n",
              "    height: 32px;\n",
              "    padding: 0;\n",
              "    width: 32px;\n",
              "  }\n",
              "\n",
              "  .colab-df-quickchart:hover {\n",
              "    background-color: var(--hover-bg-color);\n",
              "    box-shadow: 0 1px 2px rgba(60, 64, 67, 0.3), 0 1px 3px 1px rgba(60, 64, 67, 0.15);\n",
              "    fill: var(--button-hover-fill-color);\n",
              "  }\n",
              "\n",
              "  .colab-df-quickchart-complete:disabled,\n",
              "  .colab-df-quickchart-complete:disabled:hover {\n",
              "    background-color: var(--disabled-bg-color);\n",
              "    fill: var(--disabled-fill-color);\n",
              "    box-shadow: none;\n",
              "  }\n",
              "\n",
              "  .colab-df-spinner {\n",
              "    border: 2px solid var(--fill-color);\n",
              "    border-color: transparent;\n",
              "    border-bottom-color: var(--fill-color);\n",
              "    animation:\n",
              "      spin 1s steps(1) infinite;\n",
              "  }\n",
              "\n",
              "  @keyframes spin {\n",
              "    0% {\n",
              "      border-color: transparent;\n",
              "      border-bottom-color: var(--fill-color);\n",
              "      border-left-color: var(--fill-color);\n",
              "    }\n",
              "    20% {\n",
              "      border-color: transparent;\n",
              "      border-left-color: var(--fill-color);\n",
              "      border-top-color: var(--fill-color);\n",
              "    }\n",
              "    30% {\n",
              "      border-color: transparent;\n",
              "      border-left-color: var(--fill-color);\n",
              "      border-top-color: var(--fill-color);\n",
              "      border-right-color: var(--fill-color);\n",
              "    }\n",
              "    40% {\n",
              "      border-color: transparent;\n",
              "      border-right-color: var(--fill-color);\n",
              "      border-top-color: var(--fill-color);\n",
              "    }\n",
              "    60% {\n",
              "      border-color: transparent;\n",
              "      border-right-color: var(--fill-color);\n",
              "    }\n",
              "    80% {\n",
              "      border-color: transparent;\n",
              "      border-right-color: var(--fill-color);\n",
              "      border-bottom-color: var(--fill-color);\n",
              "    }\n",
              "    90% {\n",
              "      border-color: transparent;\n",
              "      border-bottom-color: var(--fill-color);\n",
              "    }\n",
              "  }\n",
              "</style>\n",
              "\n",
              "  <script>\n",
              "    async function quickchart(key) {\n",
              "      const quickchartButtonEl =\n",
              "        document.querySelector('#' + key + ' button');\n",
              "      quickchartButtonEl.disabled = true;  // To prevent multiple clicks.\n",
              "      quickchartButtonEl.classList.add('colab-df-spinner');\n",
              "      try {\n",
              "        const charts = await google.colab.kernel.invokeFunction(\n",
              "            'suggestCharts', [key], {});\n",
              "      } catch (error) {\n",
              "        console.error('Error during call to suggestCharts:', error);\n",
              "      }\n",
              "      quickchartButtonEl.classList.remove('colab-df-spinner');\n",
              "      quickchartButtonEl.classList.add('colab-df-quickchart-complete');\n",
              "    }\n",
              "    (() => {\n",
              "      let quickchartButtonEl =\n",
              "        document.querySelector('#df-e957047d-c4a2-4689-b927-b2916f0f06f9 button');\n",
              "      quickchartButtonEl.style.display =\n",
              "        google.colab.kernel.accessAllowed ? 'block' : 'none';\n",
              "    })();\n",
              "  </script>\n",
              "</div>\n",
              "\n",
              "  <div id=\"id_fe04db14-1700-46b3-869b-578e525d4552\">\n",
              "    <style>\n",
              "      .colab-df-generate {\n",
              "        background-color: #E8F0FE;\n",
              "        border: none;\n",
              "        border-radius: 50%;\n",
              "        cursor: pointer;\n",
              "        display: none;\n",
              "        fill: #1967D2;\n",
              "        height: 32px;\n",
              "        padding: 0 0 0 0;\n",
              "        width: 32px;\n",
              "      }\n",
              "\n",
              "      .colab-df-generate:hover {\n",
              "        background-color: #E2EBFA;\n",
              "        box-shadow: 0px 1px 2px rgba(60, 64, 67, 0.3), 0px 1px 3px 1px rgba(60, 64, 67, 0.15);\n",
              "        fill: #174EA6;\n",
              "      }\n",
              "\n",
              "      [theme=dark] .colab-df-generate {\n",
              "        background-color: #3B4455;\n",
              "        fill: #D2E3FC;\n",
              "      }\n",
              "\n",
              "      [theme=dark] .colab-df-generate:hover {\n",
              "        background-color: #434B5C;\n",
              "        box-shadow: 0px 1px 3px 1px rgba(0, 0, 0, 0.15);\n",
              "        filter: drop-shadow(0px 1px 2px rgba(0, 0, 0, 0.3));\n",
              "        fill: #FFFFFF;\n",
              "      }\n",
              "    </style>\n",
              "    <button class=\"colab-df-generate\" onclick=\"generateWithVariable('df')\"\n",
              "            title=\"Generate code using this dataframe.\"\n",
              "            style=\"display:none;\">\n",
              "\n",
              "  <svg xmlns=\"http://www.w3.org/2000/svg\" height=\"24px\"viewBox=\"0 0 24 24\"\n",
              "       width=\"24px\">\n",
              "    <path d=\"M7,19H8.4L18.45,9,17,7.55,7,17.6ZM5,21V16.75L18.45,3.32a2,2,0,0,1,2.83,0l1.4,1.43a1.91,1.91,0,0,1,.58,1.4,1.91,1.91,0,0,1-.58,1.4L9.25,21ZM18.45,9,17,7.55Zm-12,3A5.31,5.31,0,0,0,4.9,8.1,5.31,5.31,0,0,0,1,6.5,5.31,5.31,0,0,0,4.9,4.9,5.31,5.31,0,0,0,6.5,1,5.31,5.31,0,0,0,8.1,4.9,5.31,5.31,0,0,0,12,6.5,5.46,5.46,0,0,0,6.5,12Z\"/>\n",
              "  </svg>\n",
              "    </button>\n",
              "    <script>\n",
              "      (() => {\n",
              "      const buttonEl =\n",
              "        document.querySelector('#id_fe04db14-1700-46b3-869b-578e525d4552 button.colab-df-generate');\n",
              "      buttonEl.style.display =\n",
              "        google.colab.kernel.accessAllowed ? 'block' : 'none';\n",
              "\n",
              "      buttonEl.onclick = () => {\n",
              "        google.colab.notebook.generateWithVariable('df');\n",
              "      }\n",
              "      })();\n",
              "    </script>\n",
              "  </div>\n",
              "\n",
              "    </div>\n",
              "  </div>\n"
            ],
            "application/vnd.google.colaboratory.intrinsic+json": {
              "type": "dataframe",
              "variable_name": "df",
              "summary": "{\n  \"name\": \"df\",\n  \"rows\": 5,\n  \"fields\": [\n    {\n      \"column\": 0,\n      \"properties\": {\n        \"dtype\": \"number\",\n        \"std\": 26,\n        \"min\": 19,\n        \"max\": 83,\n        \"num_unique_values\": 5,\n        \"samples\": [\n          69,\n          51,\n          19\n        ],\n        \"semantic_type\": \"\",\n        \"description\": \"\"\n      }\n    },\n    {\n      \"column\": 1,\n      \"properties\": {\n        \"dtype\": \"number\",\n        \"std\": 22,\n        \"min\": 23,\n        \"max\": 87,\n        \"num_unique_values\": 5,\n        \"samples\": [\n          23,\n          47,\n          87\n        ],\n        \"semantic_type\": \"\",\n        \"description\": \"\"\n      }\n    },\n    {\n      \"column\": 2,\n      \"properties\": {\n        \"dtype\": \"number\",\n        \"std\": 27,\n        \"min\": 10,\n        \"max\": 85,\n        \"num_unique_values\": 5,\n        \"samples\": [\n          68,\n          10,\n          61\n        ],\n        \"semantic_type\": \"\",\n        \"description\": \"\"\n      }\n    }\n  ]\n}"
            }
          },
          "metadata": {},
          "execution_count": 221
        }
      ]
    },
    {
      "cell_type": "markdown",
      "source": [
        "**Write a function that takes a Pandas DataFrame and replaces all negative values in a specific column\n",
        "with zeros. Use NumPy operations within the Pandas DataFrame.**"
      ],
      "metadata": {
        "id": "hnSijS7BZU2C"
      }
    },
    {
      "cell_type": "code",
      "source": [
        "def func(df,col):\n",
        "  df[col]=np.where(df[col]<0,0,df[col])\n",
        "  return df\n",
        "\n"
      ],
      "metadata": {
        "id": "Wc6nfrA_ZeXm"
      },
      "execution_count": 304,
      "outputs": []
    },
    {
      "cell_type": "code",
      "source": [
        "df=pd.DataFrame([[-1,2,3],[4,5,-5]])\n",
        "func(df,col=0)"
      ],
      "metadata": {
        "colab": {
          "base_uri": "https://localhost:8080/",
          "height": 125
        },
        "id": "72k8l12laErd",
        "outputId": "ac585105-1d5d-4bfb-ab5e-e382ec2b5ad0"
      },
      "execution_count": 305,
      "outputs": [
        {
          "output_type": "execute_result",
          "data": {
            "text/plain": [
              "   0  1  2\n",
              "0  0  2  3\n",
              "1  4  5 -5"
            ],
            "text/html": [
              "\n",
              "  <div id=\"df-86bea504-0ab5-44a5-aba7-0fa9fd5b7ead\" class=\"colab-df-container\">\n",
              "    <div>\n",
              "<style scoped>\n",
              "    .dataframe tbody tr th:only-of-type {\n",
              "        vertical-align: middle;\n",
              "    }\n",
              "\n",
              "    .dataframe tbody tr th {\n",
              "        vertical-align: top;\n",
              "    }\n",
              "\n",
              "    .dataframe thead th {\n",
              "        text-align: right;\n",
              "    }\n",
              "</style>\n",
              "<table border=\"1\" class=\"dataframe\">\n",
              "  <thead>\n",
              "    <tr style=\"text-align: right;\">\n",
              "      <th></th>\n",
              "      <th>0</th>\n",
              "      <th>1</th>\n",
              "      <th>2</th>\n",
              "    </tr>\n",
              "  </thead>\n",
              "  <tbody>\n",
              "    <tr>\n",
              "      <th>0</th>\n",
              "      <td>0</td>\n",
              "      <td>2</td>\n",
              "      <td>3</td>\n",
              "    </tr>\n",
              "    <tr>\n",
              "      <th>1</th>\n",
              "      <td>4</td>\n",
              "      <td>5</td>\n",
              "      <td>-5</td>\n",
              "    </tr>\n",
              "  </tbody>\n",
              "</table>\n",
              "</div>\n",
              "    <div class=\"colab-df-buttons\">\n",
              "\n",
              "  <div class=\"colab-df-container\">\n",
              "    <button class=\"colab-df-convert\" onclick=\"convertToInteractive('df-86bea504-0ab5-44a5-aba7-0fa9fd5b7ead')\"\n",
              "            title=\"Convert this dataframe to an interactive table.\"\n",
              "            style=\"display:none;\">\n",
              "\n",
              "  <svg xmlns=\"http://www.w3.org/2000/svg\" height=\"24px\" viewBox=\"0 -960 960 960\">\n",
              "    <path d=\"M120-120v-720h720v720H120Zm60-500h600v-160H180v160Zm220 220h160v-160H400v160Zm0 220h160v-160H400v160ZM180-400h160v-160H180v160Zm440 0h160v-160H620v160ZM180-180h160v-160H180v160Zm440 0h160v-160H620v160Z\"/>\n",
              "  </svg>\n",
              "    </button>\n",
              "\n",
              "  <style>\n",
              "    .colab-df-container {\n",
              "      display:flex;\n",
              "      gap: 12px;\n",
              "    }\n",
              "\n",
              "    .colab-df-convert {\n",
              "      background-color: #E8F0FE;\n",
              "      border: none;\n",
              "      border-radius: 50%;\n",
              "      cursor: pointer;\n",
              "      display: none;\n",
              "      fill: #1967D2;\n",
              "      height: 32px;\n",
              "      padding: 0 0 0 0;\n",
              "      width: 32px;\n",
              "    }\n",
              "\n",
              "    .colab-df-convert:hover {\n",
              "      background-color: #E2EBFA;\n",
              "      box-shadow: 0px 1px 2px rgba(60, 64, 67, 0.3), 0px 1px 3px 1px rgba(60, 64, 67, 0.15);\n",
              "      fill: #174EA6;\n",
              "    }\n",
              "\n",
              "    .colab-df-buttons div {\n",
              "      margin-bottom: 4px;\n",
              "    }\n",
              "\n",
              "    [theme=dark] .colab-df-convert {\n",
              "      background-color: #3B4455;\n",
              "      fill: #D2E3FC;\n",
              "    }\n",
              "\n",
              "    [theme=dark] .colab-df-convert:hover {\n",
              "      background-color: #434B5C;\n",
              "      box-shadow: 0px 1px 3px 1px rgba(0, 0, 0, 0.15);\n",
              "      filter: drop-shadow(0px 1px 2px rgba(0, 0, 0, 0.3));\n",
              "      fill: #FFFFFF;\n",
              "    }\n",
              "  </style>\n",
              "\n",
              "    <script>\n",
              "      const buttonEl =\n",
              "        document.querySelector('#df-86bea504-0ab5-44a5-aba7-0fa9fd5b7ead button.colab-df-convert');\n",
              "      buttonEl.style.display =\n",
              "        google.colab.kernel.accessAllowed ? 'block' : 'none';\n",
              "\n",
              "      async function convertToInteractive(key) {\n",
              "        const element = document.querySelector('#df-86bea504-0ab5-44a5-aba7-0fa9fd5b7ead');\n",
              "        const dataTable =\n",
              "          await google.colab.kernel.invokeFunction('convertToInteractive',\n",
              "                                                    [key], {});\n",
              "        if (!dataTable) return;\n",
              "\n",
              "        const docLinkHtml = 'Like what you see? Visit the ' +\n",
              "          '<a target=\"_blank\" href=https://colab.research.google.com/notebooks/data_table.ipynb>data table notebook</a>'\n",
              "          + ' to learn more about interactive tables.';\n",
              "        element.innerHTML = '';\n",
              "        dataTable['output_type'] = 'display_data';\n",
              "        await google.colab.output.renderOutput(dataTable, element);\n",
              "        const docLink = document.createElement('div');\n",
              "        docLink.innerHTML = docLinkHtml;\n",
              "        element.appendChild(docLink);\n",
              "      }\n",
              "    </script>\n",
              "  </div>\n",
              "\n",
              "\n",
              "<div id=\"df-a46875a2-d6dc-4e13-a934-2b7e81c8dda6\">\n",
              "  <button class=\"colab-df-quickchart\" onclick=\"quickchart('df-a46875a2-d6dc-4e13-a934-2b7e81c8dda6')\"\n",
              "            title=\"Suggest charts\"\n",
              "            style=\"display:none;\">\n",
              "\n",
              "<svg xmlns=\"http://www.w3.org/2000/svg\" height=\"24px\"viewBox=\"0 0 24 24\"\n",
              "     width=\"24px\">\n",
              "    <g>\n",
              "        <path d=\"M19 3H5c-1.1 0-2 .9-2 2v14c0 1.1.9 2 2 2h14c1.1 0 2-.9 2-2V5c0-1.1-.9-2-2-2zM9 17H7v-7h2v7zm4 0h-2V7h2v10zm4 0h-2v-4h2v4z\"/>\n",
              "    </g>\n",
              "</svg>\n",
              "  </button>\n",
              "\n",
              "<style>\n",
              "  .colab-df-quickchart {\n",
              "      --bg-color: #E8F0FE;\n",
              "      --fill-color: #1967D2;\n",
              "      --hover-bg-color: #E2EBFA;\n",
              "      --hover-fill-color: #174EA6;\n",
              "      --disabled-fill-color: #AAA;\n",
              "      --disabled-bg-color: #DDD;\n",
              "  }\n",
              "\n",
              "  [theme=dark] .colab-df-quickchart {\n",
              "      --bg-color: #3B4455;\n",
              "      --fill-color: #D2E3FC;\n",
              "      --hover-bg-color: #434B5C;\n",
              "      --hover-fill-color: #FFFFFF;\n",
              "      --disabled-bg-color: #3B4455;\n",
              "      --disabled-fill-color: #666;\n",
              "  }\n",
              "\n",
              "  .colab-df-quickchart {\n",
              "    background-color: var(--bg-color);\n",
              "    border: none;\n",
              "    border-radius: 50%;\n",
              "    cursor: pointer;\n",
              "    display: none;\n",
              "    fill: var(--fill-color);\n",
              "    height: 32px;\n",
              "    padding: 0;\n",
              "    width: 32px;\n",
              "  }\n",
              "\n",
              "  .colab-df-quickchart:hover {\n",
              "    background-color: var(--hover-bg-color);\n",
              "    box-shadow: 0 1px 2px rgba(60, 64, 67, 0.3), 0 1px 3px 1px rgba(60, 64, 67, 0.15);\n",
              "    fill: var(--button-hover-fill-color);\n",
              "  }\n",
              "\n",
              "  .colab-df-quickchart-complete:disabled,\n",
              "  .colab-df-quickchart-complete:disabled:hover {\n",
              "    background-color: var(--disabled-bg-color);\n",
              "    fill: var(--disabled-fill-color);\n",
              "    box-shadow: none;\n",
              "  }\n",
              "\n",
              "  .colab-df-spinner {\n",
              "    border: 2px solid var(--fill-color);\n",
              "    border-color: transparent;\n",
              "    border-bottom-color: var(--fill-color);\n",
              "    animation:\n",
              "      spin 1s steps(1) infinite;\n",
              "  }\n",
              "\n",
              "  @keyframes spin {\n",
              "    0% {\n",
              "      border-color: transparent;\n",
              "      border-bottom-color: var(--fill-color);\n",
              "      border-left-color: var(--fill-color);\n",
              "    }\n",
              "    20% {\n",
              "      border-color: transparent;\n",
              "      border-left-color: var(--fill-color);\n",
              "      border-top-color: var(--fill-color);\n",
              "    }\n",
              "    30% {\n",
              "      border-color: transparent;\n",
              "      border-left-color: var(--fill-color);\n",
              "      border-top-color: var(--fill-color);\n",
              "      border-right-color: var(--fill-color);\n",
              "    }\n",
              "    40% {\n",
              "      border-color: transparent;\n",
              "      border-right-color: var(--fill-color);\n",
              "      border-top-color: var(--fill-color);\n",
              "    }\n",
              "    60% {\n",
              "      border-color: transparent;\n",
              "      border-right-color: var(--fill-color);\n",
              "    }\n",
              "    80% {\n",
              "      border-color: transparent;\n",
              "      border-right-color: var(--fill-color);\n",
              "      border-bottom-color: var(--fill-color);\n",
              "    }\n",
              "    90% {\n",
              "      border-color: transparent;\n",
              "      border-bottom-color: var(--fill-color);\n",
              "    }\n",
              "  }\n",
              "</style>\n",
              "\n",
              "  <script>\n",
              "    async function quickchart(key) {\n",
              "      const quickchartButtonEl =\n",
              "        document.querySelector('#' + key + ' button');\n",
              "      quickchartButtonEl.disabled = true;  // To prevent multiple clicks.\n",
              "      quickchartButtonEl.classList.add('colab-df-spinner');\n",
              "      try {\n",
              "        const charts = await google.colab.kernel.invokeFunction(\n",
              "            'suggestCharts', [key], {});\n",
              "      } catch (error) {\n",
              "        console.error('Error during call to suggestCharts:', error);\n",
              "      }\n",
              "      quickchartButtonEl.classList.remove('colab-df-spinner');\n",
              "      quickchartButtonEl.classList.add('colab-df-quickchart-complete');\n",
              "    }\n",
              "    (() => {\n",
              "      let quickchartButtonEl =\n",
              "        document.querySelector('#df-a46875a2-d6dc-4e13-a934-2b7e81c8dda6 button');\n",
              "      quickchartButtonEl.style.display =\n",
              "        google.colab.kernel.accessAllowed ? 'block' : 'none';\n",
              "    })();\n",
              "  </script>\n",
              "</div>\n",
              "\n",
              "  <div id=\"id_cc57c17f-879a-4083-83c4-d8c8588adf21\">\n",
              "    <style>\n",
              "      .colab-df-generate {\n",
              "        background-color: #E8F0FE;\n",
              "        border: none;\n",
              "        border-radius: 50%;\n",
              "        cursor: pointer;\n",
              "        display: none;\n",
              "        fill: #1967D2;\n",
              "        height: 32px;\n",
              "        padding: 0 0 0 0;\n",
              "        width: 32px;\n",
              "      }\n",
              "\n",
              "      .colab-df-generate:hover {\n",
              "        background-color: #E2EBFA;\n",
              "        box-shadow: 0px 1px 2px rgba(60, 64, 67, 0.3), 0px 1px 3px 1px rgba(60, 64, 67, 0.15);\n",
              "        fill: #174EA6;\n",
              "      }\n",
              "\n",
              "      [theme=dark] .colab-df-generate {\n",
              "        background-color: #3B4455;\n",
              "        fill: #D2E3FC;\n",
              "      }\n",
              "\n",
              "      [theme=dark] .colab-df-generate:hover {\n",
              "        background-color: #434B5C;\n",
              "        box-shadow: 0px 1px 3px 1px rgba(0, 0, 0, 0.15);\n",
              "        filter: drop-shadow(0px 1px 2px rgba(0, 0, 0, 0.3));\n",
              "        fill: #FFFFFF;\n",
              "      }\n",
              "    </style>\n",
              "    <button class=\"colab-df-generate\" onclick=\"generateWithVariable('df')\"\n",
              "            title=\"Generate code using this dataframe.\"\n",
              "            style=\"display:none;\">\n",
              "\n",
              "  <svg xmlns=\"http://www.w3.org/2000/svg\" height=\"24px\"viewBox=\"0 0 24 24\"\n",
              "       width=\"24px\">\n",
              "    <path d=\"M7,19H8.4L18.45,9,17,7.55,7,17.6ZM5,21V16.75L18.45,3.32a2,2,0,0,1,2.83,0l1.4,1.43a1.91,1.91,0,0,1,.58,1.4,1.91,1.91,0,0,1-.58,1.4L9.25,21ZM18.45,9,17,7.55Zm-12,3A5.31,5.31,0,0,0,4.9,8.1,5.31,5.31,0,0,0,1,6.5,5.31,5.31,0,0,0,4.9,4.9,5.31,5.31,0,0,0,6.5,1,5.31,5.31,0,0,0,8.1,4.9,5.31,5.31,0,0,0,12,6.5,5.46,5.46,0,0,0,6.5,12Z\"/>\n",
              "  </svg>\n",
              "    </button>\n",
              "    <script>\n",
              "      (() => {\n",
              "      const buttonEl =\n",
              "        document.querySelector('#id_cc57c17f-879a-4083-83c4-d8c8588adf21 button.colab-df-generate');\n",
              "      buttonEl.style.display =\n",
              "        google.colab.kernel.accessAllowed ? 'block' : 'none';\n",
              "\n",
              "      buttonEl.onclick = () => {\n",
              "        google.colab.notebook.generateWithVariable('df');\n",
              "      }\n",
              "      })();\n",
              "    </script>\n",
              "  </div>\n",
              "\n",
              "    </div>\n",
              "  </div>\n"
            ],
            "application/vnd.google.colaboratory.intrinsic+json": {
              "type": "dataframe",
              "variable_name": "df",
              "summary": "{\n  \"name\": \"df\",\n  \"rows\": 2,\n  \"fields\": [\n    {\n      \"column\": 0,\n      \"properties\": {\n        \"dtype\": \"number\",\n        \"std\": 2,\n        \"min\": 0,\n        \"max\": 4,\n        \"num_unique_values\": 2,\n        \"samples\": [\n          4,\n          0\n        ],\n        \"semantic_type\": \"\",\n        \"description\": \"\"\n      }\n    },\n    {\n      \"column\": 1,\n      \"properties\": {\n        \"dtype\": \"number\",\n        \"std\": 2,\n        \"min\": 2,\n        \"max\": 5,\n        \"num_unique_values\": 2,\n        \"samples\": [\n          5,\n          2\n        ],\n        \"semantic_type\": \"\",\n        \"description\": \"\"\n      }\n    },\n    {\n      \"column\": 2,\n      \"properties\": {\n        \"dtype\": \"number\",\n        \"std\": 5,\n        \"min\": -5,\n        \"max\": 3,\n        \"num_unique_values\": 2,\n        \"samples\": [\n          -5,\n          3\n        ],\n        \"semantic_type\": \"\",\n        \"description\": \"\"\n      }\n    }\n  ]\n}"
            }
          },
          "metadata": {},
          "execution_count": 305
        }
      ]
    },
    {
      "cell_type": "markdown",
      "source": [
        "**Access the 3rd element from the given NumPy array**\n"
      ],
      "metadata": {
        "id": "QFxY9O4WaNWb"
      }
    },
    {
      "cell_type": "code",
      "source": [
        "arr=np.array([10,20,30,40,50])"
      ],
      "metadata": {
        "id": "okGhCA9gdlKU"
      },
      "execution_count": null,
      "outputs": []
    },
    {
      "cell_type": "code",
      "source": [
        "arr[2]"
      ],
      "metadata": {
        "colab": {
          "base_uri": "https://localhost:8080/"
        },
        "id": "143Y33Aldonl",
        "outputId": "c19d7536-6f21-42f0-d7a8-52bfd565cf3c"
      },
      "execution_count": null,
      "outputs": [
        {
          "output_type": "execute_result",
          "data": {
            "text/plain": [
              "30"
            ]
          },
          "metadata": {},
          "execution_count": 60
        }
      ]
    },
    {
      "cell_type": "code",
      "source": [
        "arr[3]"
      ],
      "metadata": {
        "colab": {
          "base_uri": "https://localhost:8080/"
        },
        "id": "kTtPXZPYdp4-",
        "outputId": "47889007-6170-4c42-abb3-2859a5007e9d"
      },
      "execution_count": null,
      "outputs": [
        {
          "output_type": "execute_result",
          "data": {
            "text/plain": [
              "40"
            ]
          },
          "metadata": {},
          "execution_count": 61
        }
      ]
    },
    {
      "cell_type": "markdown",
      "source": [
        " **Retrieve the element at index (1, 2) from the 2D NumPy array**"
      ],
      "metadata": {
        "id": "nH_GEztfdqrV"
      }
    },
    {
      "cell_type": "code",
      "source": [
        "arr_2d = np.array([[1, 2, 3],\n",
        "                   [4, 5, 6],\n",
        "                   [7, 8, 9]])"
      ],
      "metadata": {
        "id": "w2AuBS7kdyeU"
      },
      "execution_count": null,
      "outputs": []
    },
    {
      "cell_type": "code",
      "source": [
        "arr_2d[1,2]"
      ],
      "metadata": {
        "colab": {
          "base_uri": "https://localhost:8080/"
        },
        "id": "WInNLUtNd27p",
        "outputId": "bf7c6939-4357-41da-c3fc-c0cf644ff757"
      },
      "execution_count": null,
      "outputs": [
        {
          "output_type": "execute_result",
          "data": {
            "text/plain": [
              "6"
            ]
          },
          "metadata": {},
          "execution_count": 63
        }
      ]
    },
    {
      "cell_type": "markdown",
      "source": [
        "**Using boolean indexing, extract elements greater than 5 from the given NumPy array**"
      ],
      "metadata": {
        "id": "pb4uJ0mqd8KL"
      }
    },
    {
      "cell_type": "code",
      "source": [
        "arr = np.array([3, 8, 2, 10, 5, 7])"
      ],
      "metadata": {
        "id": "MXfxpHcxeGbY"
      },
      "execution_count": null,
      "outputs": []
    },
    {
      "cell_type": "code",
      "source": [
        "arr[arr>5]"
      ],
      "metadata": {
        "colab": {
          "base_uri": "https://localhost:8080/"
        },
        "id": "ZjjsvTygeKtr",
        "outputId": "c2580568-38db-4df3-9f22-b8cc34fbacd8"
      },
      "execution_count": null,
      "outputs": [
        {
          "output_type": "execute_result",
          "data": {
            "text/plain": [
              "array([ 8, 10,  7])"
            ]
          },
          "metadata": {},
          "execution_count": 65
        }
      ]
    },
    {
      "cell_type": "markdown",
      "source": [
        "**Perform basic slicing to extract elements from index 2 to 5 (inclusive) from the given NumPy array.**"
      ],
      "metadata": {
        "id": "UiLIZrMOeMDn"
      }
    },
    {
      "cell_type": "code",
      "source": [
        "arr = np.array([1, 2, 3, 4, 5, 6, 7, 8, 9])"
      ],
      "metadata": {
        "id": "4_TWH46seS-D"
      },
      "execution_count": null,
      "outputs": []
    },
    {
      "cell_type": "code",
      "source": [
        "arr[2:5+1]"
      ],
      "metadata": {
        "colab": {
          "base_uri": "https://localhost:8080/"
        },
        "id": "yU_luEdpeU-c",
        "outputId": "185aa96a-b81a-4545-c702-337e5bbd8e34"
      },
      "execution_count": null,
      "outputs": [
        {
          "output_type": "execute_result",
          "data": {
            "text/plain": [
              "array([3, 4, 5, 6])"
            ]
          },
          "metadata": {},
          "execution_count": 67
        }
      ]
    },
    {
      "cell_type": "markdown",
      "source": [
        "**Slice the 2D NumPy array to extract the sub-array `[[2, 3], [5, 6]]` from the given array.**"
      ],
      "metadata": {
        "id": "aoaf7sDkeY0W"
      }
    },
    {
      "cell_type": "code",
      "source": [
        "arr_2d = np.array([[1, 2, 3],\n",
        "                   [4, 5, 6],\n",
        "                   [7, 8, 9]])"
      ],
      "metadata": {
        "id": "0tj2O_9eeiOp"
      },
      "execution_count": null,
      "outputs": []
    },
    {
      "cell_type": "code",
      "source": [
        "arr_2d[0:2,1:]"
      ],
      "metadata": {
        "colab": {
          "base_uri": "https://localhost:8080/"
        },
        "id": "JegSFgyyelSw",
        "outputId": "a80fa82b-f568-4113-af26-70a58c8297fa"
      },
      "execution_count": null,
      "outputs": [
        {
          "output_type": "execute_result",
          "data": {
            "text/plain": [
              "array([[2, 3],\n",
              "       [5, 6]])"
            ]
          },
          "metadata": {},
          "execution_count": 69
        }
      ]
    },
    {
      "cell_type": "markdown",
      "source": [
        "**Write a NumPy function to extract elements in specific order from a given 2D array based on indices\n",
        "provided in another array.**"
      ],
      "metadata": {
        "id": "AXIPQkPyeyE0"
      }
    },
    {
      "cell_type": "code",
      "source": [
        "def extract(arr,index):\n",
        "  row=index[:,0]\n",
        "  col=index[:,1]\n",
        "  return arr[row,col]\n",
        ""
      ],
      "metadata": {
        "id": "ziqPQBSGg_HY"
      },
      "execution_count": 283,
      "outputs": []
    },
    {
      "cell_type": "code",
      "source": [
        "\n",
        "arr=np.array([[1,2,3],[4,5,6],[5,6,4]])\n",
        "index=np.array([[0,0],[1,2],[2,2]])\n",
        "\n",
        "extract(arr,index)"
      ],
      "metadata": {
        "id": "dWktuENfgOiU",
        "colab": {
          "base_uri": "https://localhost:8080/"
        },
        "outputId": "4ae8745d-9275-4833-a21e-44362515471d"
      },
      "execution_count": 284,
      "outputs": [
        {
          "output_type": "execute_result",
          "data": {
            "text/plain": [
              "array([1, 6, 4])"
            ]
          },
          "metadata": {},
          "execution_count": 284
        }
      ]
    },
    {
      "cell_type": "markdown",
      "source": [
        "**create a NumPy function that filters elements greater than a threshold from a given 1D array using\n",
        "boolean indexing.**"
      ],
      "metadata": {
        "id": "2V656nxPsDFr"
      }
    },
    {
      "cell_type": "code",
      "source": [
        "def func(arr,threshold):\n",
        "  arr=arr[arr>threshold]\n",
        "  return arr"
      ],
      "metadata": {
        "id": "N02GHhqBhg-w"
      },
      "execution_count": null,
      "outputs": []
    },
    {
      "cell_type": "code",
      "source": [
        "func(np.array([1,2,3,4,5,6,7]),4)"
      ],
      "metadata": {
        "id": "9eRaRkz9h8OX",
        "colab": {
          "base_uri": "https://localhost:8080/"
        },
        "outputId": "a5547058-8f3f-4224-822f-c19b14288554"
      },
      "execution_count": null,
      "outputs": [
        {
          "output_type": "execute_result",
          "data": {
            "text/plain": [
              "array([5, 6, 7])"
            ]
          },
          "metadata": {},
          "execution_count": 234
        }
      ]
    },
    {
      "cell_type": "markdown",
      "source": [
        " **Develop a NumPy function that extracts specific elements from a 3D array using indices provided in three\n",
        "separate arrays for each dimension.**"
      ],
      "metadata": {
        "id": "kkGCI6xdh8Ll"
      }
    },
    {
      "cell_type": "code",
      "source": [
        "def extract(arr,dim1,dim2,dim3):\n",
        "  extract=arr[dim1,dim2,dim3]\n",
        "  return extract"
      ],
      "metadata": {
        "id": "zLFgugaXM4vn"
      },
      "execution_count": 290,
      "outputs": []
    },
    {
      "cell_type": "code",
      "source": [
        "arr=np.array([[[1,2,3],[4,5,6],[7,8,5]]])\n",
        "dim1=[0,0,0]\n",
        "dim2=[0,2,1]\n",
        "dim3=[1,2,0]\n",
        "extract(arr,dim1,dim2,dim3)"
      ],
      "metadata": {
        "colab": {
          "base_uri": "https://localhost:8080/"
        },
        "id": "Tc9Xl1xGMUkK",
        "outputId": "9d693376-2dad-414d-e816-162cab9aa2f3"
      },
      "execution_count": 293,
      "outputs": [
        {
          "output_type": "execute_result",
          "data": {
            "text/plain": [
              "array([2, 5, 4])"
            ]
          },
          "metadata": {},
          "execution_count": 293
        }
      ]
    },
    {
      "cell_type": "markdown",
      "source": [
        "**Write a NumPy function that returns elements from an array where both two conditions are satisfied\n",
        "using boolean indexing**"
      ],
      "metadata": {
        "id": "0tect9HN0oKu"
      }
    },
    {
      "cell_type": "code",
      "source": [
        "arr=np.array([1,2,3,4,5,6])"
      ],
      "metadata": {
        "id": "T50Fa0EMh8Ii"
      },
      "execution_count": null,
      "outputs": []
    },
    {
      "cell_type": "code",
      "source": [
        "arr1=arr[arr>2]"
      ],
      "metadata": {
        "id": "YLGwTByBh8Fw",
        "colab": {
          "base_uri": "https://localhost:8080/"
        },
        "outputId": "95f1a222-3ffb-40b2-84a7-981899643526"
      },
      "execution_count": null,
      "outputs": [
        {
          "output_type": "execute_result",
          "data": {
            "text/plain": [
              "array([3, 4, 5, 6])"
            ]
          },
          "metadata": {},
          "execution_count": 242
        }
      ]
    },
    {
      "cell_type": "code",
      "source": [
        "arr2=arr[arr<5]"
      ],
      "metadata": {
        "id": "dEt0KVJSh8Ck"
      },
      "execution_count": null,
      "outputs": []
    },
    {
      "cell_type": "code",
      "source": [
        "arr1 & arr2"
      ],
      "metadata": {
        "id": "PjwdbpmSh7_v",
        "colab": {
          "base_uri": "https://localhost:8080/"
        },
        "outputId": "6baa14b8-1727-48bf-af9b-cac9d18925a8"
      },
      "execution_count": null,
      "outputs": [
        {
          "output_type": "execute_result",
          "data": {
            "text/plain": [
              "array([[1, 2, 1, 4]])"
            ]
          },
          "metadata": {},
          "execution_count": 247
        }
      ]
    },
    {
      "cell_type": "markdown",
      "source": [
        " **Create a NumPy function that extracts elements from a 2D array using row and column indices provided\n",
        "in separate arrays.**"
      ],
      "metadata": {
        "id": "Pb5pmO3ANift"
      }
    },
    {
      "cell_type": "code",
      "source": [
        "def ext(arr,dim1,dim2):\n",
        "  return arr[dim1,dim2]\n",
        "ext(np.array([[1,2],[3,4]]),[1,0],[0,1])"
      ],
      "metadata": {
        "colab": {
          "base_uri": "https://localhost:8080/"
        },
        "id": "2wHzg2qkNh_d",
        "outputId": "b9cea99b-656d-4919-f4cb-a36caa59233f"
      },
      "execution_count": 295,
      "outputs": [
        {
          "output_type": "execute_result",
          "data": {
            "text/plain": [
              "array([3, 2])"
            ]
          },
          "metadata": {},
          "execution_count": 295
        }
      ]
    },
    {
      "cell_type": "markdown",
      "source": [
        "**Given an array arr of shape (3, 3), add a scalar value of 5 to each element using NumPy broadcasting.**"
      ],
      "metadata": {
        "id": "OBmPSvhKh7zE"
      }
    },
    {
      "cell_type": "code",
      "source": [
        "arr=np.eye(3)"
      ],
      "metadata": {
        "id": "wYJegoVJiDxr"
      },
      "execution_count": null,
      "outputs": []
    },
    {
      "cell_type": "code",
      "source": [
        "arr+5"
      ],
      "metadata": {
        "colab": {
          "base_uri": "https://localhost:8080/"
        },
        "id": "oCfuV4OAiGIr",
        "outputId": "f3ba7d2a-97e3-4108-ed6b-0dac15be674c"
      },
      "execution_count": null,
      "outputs": [
        {
          "output_type": "execute_result",
          "data": {
            "text/plain": [
              "array([[6., 5., 5.],\n",
              "       [5., 6., 5.],\n",
              "       [5., 5., 6.]])"
            ]
          },
          "metadata": {},
          "execution_count": 73
        }
      ]
    },
    {
      "cell_type": "markdown",
      "source": [
        "**Consider two arrays arr1 of shape (1, 3) and arr2 of shape (3, 4). Multiply each row of arr2 by the\n",
        "corresponding element in arr1 using NumPy broadcasting**"
      ],
      "metadata": {
        "id": "zBqqJ0FsGn2k"
      }
    },
    {
      "cell_type": "code",
      "source": [
        "arr1=np.random.randint(1,5,(1,3))\n",
        "arr2=np.random.randint(1,5,(3,4))\n",
        "arr1.reshape(1,1,3)+arr2.reshape(3,4,1)"
      ],
      "metadata": {
        "id": "H52pCWBficSv",
        "colab": {
          "base_uri": "https://localhost:8080/"
        },
        "outputId": "d1825da0-9559-423e-c93b-cf0977505c6f"
      },
      "execution_count": 271,
      "outputs": [
        {
          "output_type": "execute_result",
          "data": {
            "text/plain": [
              "array([[[4, 4, 5],\n",
              "        [3, 3, 4],\n",
              "        [4, 4, 5],\n",
              "        [3, 3, 4]],\n",
              "\n",
              "       [[3, 3, 4],\n",
              "        [3, 3, 4],\n",
              "        [3, 3, 4],\n",
              "        [3, 3, 4]],\n",
              "\n",
              "       [[5, 5, 6],\n",
              "        [3, 3, 4],\n",
              "        [3, 3, 4],\n",
              "        [5, 5, 6]]])"
            ]
          },
          "metadata": {},
          "execution_count": 271
        }
      ]
    },
    {
      "cell_type": "markdown",
      "source": [
        " **Given a 1D array arr1 of shape (1, 4) and a 2D array arr2 of shape (4, 3), add arr1 to each row of arr2 using\n",
        "NumPy broadcasting.**"
      ],
      "metadata": {
        "id": "CgW0ruzBoEFL"
      }
    },
    {
      "cell_type": "code",
      "source": [
        "arr1=np.random.randint(1,5,(1,4))\n",
        "arr2=np.random.randint(1,5,(4,3))\n",
        "print(arr1)\n",
        "print(arr2)\n",
        "arr2+arr1.reshape((1,4,1))"
      ],
      "metadata": {
        "id": "wlotQfJ8icPS",
        "colab": {
          "base_uri": "https://localhost:8080/"
        },
        "outputId": "e55d4d60-dd80-44a0-f247-56edf40d9060"
      },
      "execution_count": 262,
      "outputs": [
        {
          "output_type": "stream",
          "name": "stdout",
          "text": [
            "[[3 1 2 1]]\n",
            "[[3 4 4]\n",
            " [2 4 1]\n",
            " [3 3 4]\n",
            " [1 2 1]]\n"
          ]
        },
        {
          "output_type": "execute_result",
          "data": {
            "text/plain": [
              "array([[[6, 7, 7],\n",
              "        [3, 5, 2],\n",
              "        [5, 5, 6],\n",
              "        [2, 3, 2]]])"
            ]
          },
          "metadata": {},
          "execution_count": 262
        }
      ]
    },
    {
      "cell_type": "markdown",
      "source": [
        "**Consider two arrays arr1 of shape (3, 1) and arr2 of shape (1, 3). Add these arrays using NumPy\n",
        "broadcasting.**"
      ],
      "metadata": {
        "id": "1L1LKCs6icL-"
      }
    },
    {
      "cell_type": "code",
      "source": [
        "arr1=np.random.randint(1,10,(3,1))\n",
        "arr2=np.random.randint(1,10,(1,3))\n",
        "arr1+arr2"
      ],
      "metadata": {
        "id": "caROaZO6icH1",
        "colab": {
          "base_uri": "https://localhost:8080/"
        },
        "outputId": "6c7c2a81-9283-45bc-d9af-692a2e3bbc14"
      },
      "execution_count": null,
      "outputs": [
        {
          "output_type": "execute_result",
          "data": {
            "text/plain": [
              "array([[11, 15,  8],\n",
              "       [ 7, 11,  4],\n",
              "       [13, 17, 10]])"
            ]
          },
          "metadata": {},
          "execution_count": 229
        }
      ]
    },
    {
      "cell_type": "markdown",
      "source": [
        "**Given arrays arr1 of shape (2, 3) and arr2 of shape (2, 2), perform multiplication using NumPy\n",
        "broadcasting. Handle the shape incompatibility.**"
      ],
      "metadata": {
        "id": "AS0uUjy8B50Y"
      }
    },
    {
      "cell_type": "code",
      "source": [
        "arr1=np.random.randint(1,5,(2,3))\n",
        "arr2=np.random.randint(1,5,(2,2))\n",
        "arr1.reshape(1,2,3)*arr2.reshape(2,2,1)"
      ],
      "metadata": {
        "id": "ZeKeQoITn9F5",
        "colab": {
          "base_uri": "https://localhost:8080/"
        },
        "outputId": "4c799f7b-8898-4502-a93c-042b82c6d789"
      },
      "execution_count": 270,
      "outputs": [
        {
          "output_type": "execute_result",
          "data": {
            "text/plain": [
              "array([[[ 4,  8, 16],\n",
              "        [ 3,  3,  1]],\n",
              "\n",
              "       [[ 1,  2,  4],\n",
              "        [ 9,  9,  3]]])"
            ]
          },
          "metadata": {},
          "execution_count": 270
        }
      ]
    },
    {
      "cell_type": "markdown",
      "source": [
        "**Calculate column wise mean for the given array:**"
      ],
      "metadata": {
        "id": "cbCHc-3jicCS"
      }
    },
    {
      "cell_type": "code",
      "source": [
        "arr = np.array([[1, 2, 3], [4, 5, 6]])"
      ],
      "metadata": {
        "id": "07J0hAlWim84"
      },
      "execution_count": null,
      "outputs": []
    },
    {
      "cell_type": "code",
      "source": [
        "np.mean(arr,axis=0)"
      ],
      "metadata": {
        "colab": {
          "base_uri": "https://localhost:8080/"
        },
        "id": "CCqYZ4BtipJM",
        "outputId": "cd93ce50-265a-44ba-f949-d7559562df2c"
      },
      "execution_count": null,
      "outputs": [
        {
          "output_type": "execute_result",
          "data": {
            "text/plain": [
              "array([2.5, 3.5, 4.5])"
            ]
          },
          "metadata": {},
          "execution_count": 75
        }
      ]
    },
    {
      "cell_type": "markdown",
      "source": [
        " **Find maximum value in each row of the given array:**/\n"
      ],
      "metadata": {
        "id": "2GnunhqgisXG"
      }
    },
    {
      "cell_type": "code",
      "source": [
        "arr = np.array([[1, 2, 3], [4, 5, 6]])\n",
        "np.max(arr,axis=1)"
      ],
      "metadata": {
        "colab": {
          "base_uri": "https://localhost:8080/"
        },
        "id": "00EG8YfPj587",
        "outputId": "7c4b9fb8-74e9-41d7-dc24-25a1873705d5"
      },
      "execution_count": null,
      "outputs": [
        {
          "output_type": "execute_result",
          "data": {
            "text/plain": [
              "array([3, 6])"
            ]
          },
          "metadata": {},
          "execution_count": 76
        }
      ]
    },
    {
      "cell_type": "markdown",
      "source": [
        "**For the given array, find indices of maximum value in each column.**"
      ],
      "metadata": {
        "id": "kvYPrMbQkJTe"
      }
    },
    {
      "cell_type": "code",
      "source": [
        "arr = np.array([[1, 2, 3], [4, 5, 6]])"
      ],
      "metadata": {
        "id": "CU0JR6FakcF-"
      },
      "execution_count": null,
      "outputs": []
    },
    {
      "cell_type": "code",
      "source": [
        "np.where(arr==np.max(arr,axis=0))"
      ],
      "metadata": {
        "colab": {
          "base_uri": "https://localhost:8080/"
        },
        "id": "k2LU_XCRkeIz",
        "outputId": "9f4d9645-f4b0-40ef-8452-eabffbea2a12"
      },
      "execution_count": null,
      "outputs": [
        {
          "output_type": "execute_result",
          "data": {
            "text/plain": [
              "(array([1, 1, 1]), array([0, 1, 2]))"
            ]
          },
          "metadata": {},
          "execution_count": 78
        }
      ]
    },
    {
      "cell_type": "markdown",
      "source": [
        " **For the given array, apply custom function to calculate moving sum along rows.**"
      ],
      "metadata": {
        "id": "2Z4Xa80rkiU3"
      }
    },
    {
      "cell_type": "code",
      "source": [
        "arr = np.array([[1, 2, 3], [4, 5, 6]])"
      ],
      "metadata": {
        "id": "Emow4lm2mU7k"
      },
      "execution_count": null,
      "outputs": []
    },
    {
      "cell_type": "code",
      "source": [
        "def sum(a,b):\n",
        "  return a+b"
      ],
      "metadata": {
        "id": "liBW4OCOmabe"
      },
      "execution_count": null,
      "outputs": []
    },
    {
      "cell_type": "code",
      "source": [
        "np.sum(arr,axis=1)"
      ],
      "metadata": {
        "colab": {
          "base_uri": "https://localhost:8080/"
        },
        "id": "gHFogHPdmdZm",
        "outputId": "63433ffa-f816-4cfb-b94a-6d7a1493a55e"
      },
      "execution_count": null,
      "outputs": [
        {
          "output_type": "execute_result",
          "data": {
            "text/plain": [
              "array([ 6, 15])"
            ]
          },
          "metadata": {},
          "execution_count": 81
        }
      ]
    },
    {
      "cell_type": "markdown",
      "source": [
        "**In the given array, check if all elements in each column are even.**"
      ],
      "metadata": {
        "id": "vRBtu-Spmypv"
      }
    },
    {
      "cell_type": "code",
      "source": [
        "arr = np.array([[2, 4, 6], [3, 5, 7]])"
      ],
      "metadata": {
        "id": "cSPfcs5Wn6Wo"
      },
      "execution_count": null,
      "outputs": []
    },
    {
      "cell_type": "code",
      "source": [
        "np.all(arr%2==0,axis=0)"
      ],
      "metadata": {
        "colab": {
          "base_uri": "https://localhost:8080/"
        },
        "id": "xTUEqTJ3p64-",
        "outputId": "e89fb75b-665e-4035-da3a-d3d3b8258b11"
      },
      "execution_count": null,
      "outputs": [
        {
          "output_type": "execute_result",
          "data": {
            "text/plain": [
              "array([False, False, False])"
            ]
          },
          "metadata": {},
          "execution_count": 83
        }
      ]
    },
    {
      "cell_type": "markdown",
      "source": [
        " **Given a NumPy array arr, reshape it into a matrix of dimensions `m` rows and `n` columns. Return the\n",
        "reshaped matrix**."
      ],
      "metadata": {
        "id": "WIwPpJvXp-h5"
      }
    },
    {
      "cell_type": "code",
      "source": [
        "original_array = np.array([1, 2, 3, 4, 5, 6])"
      ],
      "metadata": {
        "id": "fRk35rhNqMbc"
      },
      "execution_count": null,
      "outputs": []
    },
    {
      "cell_type": "code",
      "source": [
        "original_array.reshape(3,2)"
      ],
      "metadata": {
        "colab": {
          "base_uri": "https://localhost:8080/"
        },
        "id": "VAYfwAuVqX7V",
        "outputId": "cfe49989-cf5c-4c40-f8c1-e7726c897515"
      },
      "execution_count": null,
      "outputs": [
        {
          "output_type": "execute_result",
          "data": {
            "text/plain": [
              "array([[1, 2],\n",
              "       [3, 4],\n",
              "       [5, 6]])"
            ]
          },
          "metadata": {},
          "execution_count": 85
        }
      ]
    },
    {
      "cell_type": "markdown",
      "source": [
        "**Create a function that takes a matrix as input and returns the flattened array.**"
      ],
      "metadata": {
        "id": "qTeJhd4FqnUn"
      }
    },
    {
      "cell_type": "code",
      "source": [
        "def flat_array(arr):\n",
        "  return arr.flatten()"
      ],
      "metadata": {
        "id": "OOOoHPDbq3TT"
      },
      "execution_count": null,
      "outputs": []
    },
    {
      "cell_type": "code",
      "source": [
        "input_matrix = np.array([[1, 2, 3], [4, 5, 6]])"
      ],
      "metadata": {
        "id": "1uMpuM5NqwTS"
      },
      "execution_count": null,
      "outputs": []
    },
    {
      "cell_type": "code",
      "source": [
        "flat_array(input_matrix)"
      ],
      "metadata": {
        "colab": {
          "base_uri": "https://localhost:8080/"
        },
        "id": "mKL43Hnuqzji",
        "outputId": "cda574f4-18d2-493e-b5de-34015bd0511d"
      },
      "execution_count": null,
      "outputs": [
        {
          "output_type": "execute_result",
          "data": {
            "text/plain": [
              "array([1, 2, 3, 4, 5, 6])"
            ]
          },
          "metadata": {},
          "execution_count": 88
        }
      ]
    },
    {
      "cell_type": "markdown",
      "source": [
        "**Write a function that concatenates two given arrays along a specified axis**"
      ],
      "metadata": {
        "id": "4MMPt1PXrLHK"
      }
    },
    {
      "cell_type": "code",
      "source": [
        "def concat(arr1,arr2):\n",
        "  return np.concatenate((arr1,arr2),axis=0)"
      ],
      "metadata": {
        "id": "u6b_1Fyzriuh"
      },
      "execution_count": null,
      "outputs": []
    },
    {
      "cell_type": "code",
      "source": [
        "array1 = np.array([[1, 2], [3, 4]])\n",
        "array2 = np.array([[5, 6], [7, 8]])"
      ],
      "metadata": {
        "id": "-CRcWJMXrtLa"
      },
      "execution_count": null,
      "outputs": []
    },
    {
      "cell_type": "code",
      "source": [
        "concat(array1,array2)"
      ],
      "metadata": {
        "colab": {
          "base_uri": "https://localhost:8080/"
        },
        "id": "m6gjRMnErzh7",
        "outputId": "d90f1b2d-ce01-4c9c-e371-e240107e3bf6"
      },
      "execution_count": null,
      "outputs": [
        {
          "output_type": "execute_result",
          "data": {
            "text/plain": [
              "array([[1, 2],\n",
              "       [3, 4],\n",
              "       [5, 6],\n",
              "       [7, 8]])"
            ]
          },
          "metadata": {},
          "execution_count": 91
        }
      ]
    },
    {
      "cell_type": "markdown",
      "source": [
        "**Create a function that splits an array into multiple sub-arrays along a specified axis**"
      ],
      "metadata": {
        "id": "AyFHA1cAr1YG"
      }
    },
    {
      "cell_type": "code",
      "source": [
        "original_array = np.array([[1, 2, 3], [4, 5, 6], [7, 8, 9]])"
      ],
      "metadata": {
        "id": "6YJCykrZsdXc"
      },
      "execution_count": null,
      "outputs": []
    },
    {
      "cell_type": "code",
      "source": [
        "np.split(original_array,axis=0,indices_or_sections=3)"
      ],
      "metadata": {
        "colab": {
          "base_uri": "https://localhost:8080/"
        },
        "id": "nknnbSFnsfpu",
        "outputId": "b28ff2ce-2a3b-4718-a8ca-4dae8ab98044"
      },
      "execution_count": null,
      "outputs": [
        {
          "output_type": "execute_result",
          "data": {
            "text/plain": [
              "[array([[1, 2, 3]]), array([[4, 5, 6]]), array([[7, 8, 9]])]"
            ]
          },
          "metadata": {},
          "execution_count": 93
        }
      ]
    },
    {
      "cell_type": "markdown",
      "source": [
        "**Write a function that inserts and then deletes elements from a given array at specified indices**."
      ],
      "metadata": {
        "id": "XfxL5zAXsrqZ"
      }
    },
    {
      "cell_type": "code",
      "source": [
        "original_array = np.array([1, 2, 3, 4, 5])\n",
        "indices_to_insert = [2, 4]\n",
        "values_to_insert = [10, 11]\n",
        "indices_to_delete = [1, 3]\n",
        "for i in range(len(indices_to_insert)):\n",
        "  a=np.insert(original_array,indices_to_insert[i],values_to_insert[i])\n",
        "print(a)\n",
        "for i in indices_to_delete:\n",
        "  a=np.delete(a,i)\n",
        "print(a)"
      ],
      "metadata": {
        "colab": {
          "base_uri": "https://localhost:8080/"
        },
        "id": "_3dx83G5gKCS",
        "outputId": "e3d0911f-6ac5-4457-f314-edb06c7fedfd"
      },
      "execution_count": null,
      "outputs": [
        {
          "output_type": "stream",
          "name": "stdout",
          "text": [
            "[ 1  2  3  4 11  5]\n",
            "[1 3 4 5]\n"
          ]
        }
      ]
    },
    {
      "cell_type": "markdown",
      "source": [
        " **Create a NumPy array `arr1` with random integers and another array `arr2` with integers from 1 to 10.\n",
        "Perform element-wise addition between `arr1` and `arr2`**"
      ],
      "metadata": {
        "id": "fGsSPWzwtDDd"
      }
    },
    {
      "cell_type": "code",
      "source": [
        "arr1=np.random.rand(10)\n",
        "arr2=np.random.randint(1,10,(3,10))"
      ],
      "metadata": {
        "id": "roYcwCHqtRvp"
      },
      "execution_count": null,
      "outputs": []
    },
    {
      "cell_type": "code",
      "source": [
        "arr1+arr2"
      ],
      "metadata": {
        "colab": {
          "base_uri": "https://localhost:8080/"
        },
        "id": "9tHYea8KtmpS",
        "outputId": "0bb46d29-d69b-4bf3-903a-852e1de934ab"
      },
      "execution_count": null,
      "outputs": [
        {
          "output_type": "execute_result",
          "data": {
            "text/plain": [
              "array([[1.80729865, 7.11058379, 5.32769088, 5.76046643, 7.17814174,\n",
              "        2.59226834, 8.07512941, 8.68101829, 5.87121979, 9.62392767],\n",
              "       [5.80729865, 5.11058379, 2.32769088, 1.76046643, 2.17814174,\n",
              "        2.59226834, 2.07512941, 6.68101829, 2.87121979, 3.62392767],\n",
              "       [7.80729865, 8.11058379, 8.32769088, 2.76046643, 9.17814174,\n",
              "        4.59226834, 9.07512941, 8.68101829, 3.87121979, 3.62392767]])"
            ]
          },
          "metadata": {},
          "execution_count": 95
        }
      ]
    },
    {
      "cell_type": "markdown",
      "source": [
        "**Generate a NumPy array `arr1` with sequential integers from 10 to 1 and another array `arr2` with integers\n",
        "from 1 to 10. Subtract `arr2` from `arr1` element-wise.**"
      ],
      "metadata": {
        "id": "7Hoqn_m0toJa"
      }
    },
    {
      "cell_type": "code",
      "source": [
        "arr1=np.arange(10,0,-1)\n",
        "arr2=np.arange(1,11,1)"
      ],
      "metadata": {
        "id": "-gYlAq3fFFo5"
      },
      "execution_count": null,
      "outputs": []
    },
    {
      "cell_type": "code",
      "source": [
        "arr2-arr1\n"
      ],
      "metadata": {
        "colab": {
          "base_uri": "https://localhost:8080/"
        },
        "id": "Ol-4ozCUFLOS",
        "outputId": "7611c2f2-c048-4860-9d7f-01af60ef38a3"
      },
      "execution_count": null,
      "outputs": [
        {
          "output_type": "execute_result",
          "data": {
            "text/plain": [
              "array([-9, -7, -5, -3, -1,  1,  3,  5,  7,  9])"
            ]
          },
          "metadata": {},
          "execution_count": 97
        }
      ]
    },
    {
      "cell_type": "markdown",
      "source": [
        "**Create a NumPy array `arr1` with random integers and another array `arr2` with integers from 1 to 5.\n",
        "Perform element-wise multiplication between `arr1` and `arr2`.**"
      ],
      "metadata": {
        "id": "j-FYGwrzFNHK"
      }
    },
    {
      "cell_type": "code",
      "source": [
        "arr1=np.random.randint(1,5,(1,1))"
      ],
      "metadata": {
        "id": "Qv3n9v0cFfm1"
      },
      "execution_count": null,
      "outputs": []
    },
    {
      "cell_type": "code",
      "source": [
        "arr2=np.random.randint(1,5,(2,6))"
      ],
      "metadata": {
        "id": "TL8CLzmRFoTt"
      },
      "execution_count": null,
      "outputs": []
    },
    {
      "cell_type": "code",
      "source": [
        "arr1*arr2"
      ],
      "metadata": {
        "colab": {
          "base_uri": "https://localhost:8080/"
        },
        "id": "3pziYbBVFqwb",
        "outputId": "7382c0f7-cc85-462b-bf4d-eec21b04bd2e"
      },
      "execution_count": null,
      "outputs": [
        {
          "output_type": "execute_result",
          "data": {
            "text/plain": [
              "array([[ 9,  6, 12, 12,  3,  6],\n",
              "       [ 6,  6,  3,  6,  9,  9]])"
            ]
          },
          "metadata": {},
          "execution_count": 100
        }
      ]
    },
    {
      "cell_type": "markdown",
      "source": [
        "**Generate a NumPy array `arr1` with even integers from 2 to 10 and another array `arr2` with integers from 1\n",
        "to 5. Perform element-wise division of `arr1` by `arr2`.**"
      ],
      "metadata": {
        "id": "IBV0f8pnFr7f"
      }
    },
    {
      "cell_type": "code",
      "source": [
        "arr1=np.arange(2,10+1,2)"
      ],
      "metadata": {
        "id": "CgopBi5fGXC2"
      },
      "execution_count": null,
      "outputs": []
    },
    {
      "cell_type": "code",
      "source": [
        "arr2=np.arange(1,5+1)"
      ],
      "metadata": {
        "id": "7s4-UZiXGdgD"
      },
      "execution_count": null,
      "outputs": []
    },
    {
      "cell_type": "code",
      "source": [
        "arr1/arr2"
      ],
      "metadata": {
        "colab": {
          "base_uri": "https://localhost:8080/"
        },
        "id": "EzuFv0ZtGhaC",
        "outputId": "a0793845-b737-4992-fde9-b12090a44699"
      },
      "execution_count": null,
      "outputs": [
        {
          "output_type": "execute_result",
          "data": {
            "text/plain": [
              "array([2., 2., 2., 2., 2.])"
            ]
          },
          "metadata": {},
          "execution_count": 103
        }
      ]
    },
    {
      "cell_type": "markdown",
      "source": [
        "**Create a NumPy array `arr1` with integers from 1 to 5 and another array `arr2` with the same numbers\n",
        "reversed. Calculate the exponentiation of `arr1` raised to the power of `arr2` element-wise**"
      ],
      "metadata": {
        "id": "C-QH16z5GjDR"
      }
    },
    {
      "cell_type": "code",
      "source": [
        "arr1=np.arange(1,5+1)"
      ],
      "metadata": {
        "id": "iHU0SOdZG2Zg"
      },
      "execution_count": null,
      "outputs": []
    },
    {
      "cell_type": "code",
      "source": [
        "arr2=np.arange(5,1-1,-1)"
      ],
      "metadata": {
        "id": "DnMKFL_nG6_0"
      },
      "execution_count": null,
      "outputs": []
    },
    {
      "cell_type": "code",
      "source": [
        "arr1**arr2"
      ],
      "metadata": {
        "colab": {
          "base_uri": "https://localhost:8080/"
        },
        "id": "2V8q0By8G_gj",
        "outputId": "3428406a-cb41-4f86-fc67-54e2acca22eb"
      },
      "execution_count": null,
      "outputs": [
        {
          "output_type": "execute_result",
          "data": {
            "text/plain": [
              "array([ 1, 16, 27, 16,  5])"
            ]
          },
          "metadata": {},
          "execution_count": 106
        }
      ]
    },
    {
      "cell_type": "markdown",
      "source": [
        "**Write a function that counts the occurrences of a specific substring within a NumPy array of strings.**"
      ],
      "metadata": {
        "id": "Xy_nS_cgHDX9"
      }
    },
    {
      "cell_type": "code",
      "source": [
        "arr = np.array(['hello', 'world', 'hello', 'numpy', 'hello'])\n"
      ],
      "metadata": {
        "id": "EJnPnGbhHi5y"
      },
      "execution_count": null,
      "outputs": []
    },
    {
      "cell_type": "code",
      "source": [
        "arr=np.char.count(arr,'hello')"
      ],
      "metadata": {
        "id": "U-2fjGAtHlfc"
      },
      "execution_count": null,
      "outputs": []
    },
    {
      "cell_type": "code",
      "source": [
        "np.sum(arr)"
      ],
      "metadata": {
        "colab": {
          "base_uri": "https://localhost:8080/"
        },
        "id": "IchfWryVIGgQ",
        "outputId": "97fbb4d2-a3a8-4975-8407-52da46a1f37a"
      },
      "execution_count": null,
      "outputs": [
        {
          "output_type": "execute_result",
          "data": {
            "text/plain": [
              "3"
            ]
          },
          "metadata": {},
          "execution_count": 109
        }
      ]
    },
    {
      "cell_type": "markdown",
      "source": [
        "**Write a function that extracts uppercase characters from a NumPy array of strings.**"
      ],
      "metadata": {
        "id": "Cu8UTrH0IZhD"
      }
    },
    {
      "cell_type": "code",
      "source": [
        "arr = np.array(['Hello', 'World', 'OpenAI', 'GPT'])\n"
      ],
      "metadata": {
        "id": "FJVda2DUIkUa"
      },
      "execution_count": null,
      "outputs": []
    },
    {
      "cell_type": "code",
      "source": [
        "l=[]\n",
        "for i in arr:\n",
        "  for j in i:\n",
        "    if j.isupper():\n",
        "      l.append(j)\n",
        "l"
      ],
      "metadata": {
        "colab": {
          "base_uri": "https://localhost:8080/"
        },
        "id": "W_p3e_9CImWN",
        "outputId": "137fa7cd-43ee-452b-fee1-d260e521b5c6"
      },
      "execution_count": null,
      "outputs": [
        {
          "output_type": "execute_result",
          "data": {
            "text/plain": [
              "['H', 'W', 'O', 'A', 'I', 'G', 'P', 'T']"
            ]
          },
          "metadata": {},
          "execution_count": 217
        }
      ]
    },
    {
      "cell_type": "markdown",
      "source": [
        "**Write a function that replaces occurrences of a substring in a NumPy array of strings with a new string.**"
      ],
      "metadata": {
        "id": "OGnohCQFahvb"
      }
    },
    {
      "cell_type": "code",
      "source": [
        "arr = np.array(['apple', 'banana', 'grape', 'pineapple'])\n",
        "np.char.replace(arr,\"ap\",\"mm\")"
      ],
      "metadata": {
        "colab": {
          "base_uri": "https://localhost:8080/"
        },
        "id": "xM7LN67LalIh",
        "outputId": "5f696111-6704-4fed-96d1-d65f56205cb5"
      },
      "execution_count": null,
      "outputs": [
        {
          "output_type": "execute_result",
          "data": {
            "text/plain": [
              "array(['mmple', 'banana', 'grmme', 'pinemmple'], dtype='<U9')"
            ]
          },
          "metadata": {},
          "execution_count": 196
        }
      ]
    },
    {
      "cell_type": "markdown",
      "source": [
        "**Write a function that concatenates strings in a NumPy array element-wise.**"
      ],
      "metadata": {
        "id": "uza-O53vZtKC"
      }
    },
    {
      "cell_type": "code",
      "source": [
        "arr1 = np.array(['Hello', 'World'])\n",
        "arr2 = np.array(['Open', 'AI'])\n",
        "np.char.add(arr1,arr2)\n"
      ],
      "metadata": {
        "colab": {
          "base_uri": "https://localhost:8080/"
        },
        "id": "Z8IfEbewZt0E",
        "outputId": "316a54fb-1af4-4b97-94ce-63fdb26ee40e"
      },
      "execution_count": null,
      "outputs": [
        {
          "output_type": "execute_result",
          "data": {
            "text/plain": [
              "array(['HelloOpen', 'WorldAI'], dtype='<U9')"
            ]
          },
          "metadata": {},
          "execution_count": 194
        }
      ]
    },
    {
      "cell_type": "markdown",
      "source": [
        "**Write a function that finds the length of the longest string in a NumPy array.**"
      ],
      "metadata": {
        "id": "97o-VXP1Ygn-"
      }
    },
    {
      "cell_type": "code",
      "source": [
        "arr = np.array(['apple', 'banana', 'grape', 'pineapple'])\n",
        "from functools import reduce\n",
        "reduce(lambda x,y:max(x,y),arr)"
      ],
      "metadata": {
        "colab": {
          "base_uri": "https://localhost:8080/",
          "height": 36
        },
        "id": "mk1D1383YgK_",
        "outputId": "456f4f17-d543-4daa-c47a-d9bff88a9e38"
      },
      "execution_count": null,
      "outputs": [
        {
          "output_type": "execute_result",
          "data": {
            "text/plain": [
              "'pineapple'"
            ],
            "application/vnd.google.colaboratory.intrinsic+json": {
              "type": "string"
            }
          },
          "metadata": {},
          "execution_count": 189
        }
      ]
    },
    {
      "cell_type": "markdown",
      "source": [
        "**Create a dataset of 100 random integers between 1 and 1000. Compute the mean, median, variance, and\n",
        "standard deviation of the dataset using NumPy's functions.**"
      ],
      "metadata": {
        "id": "228MkBjnX8JP"
      }
    },
    {
      "cell_type": "code",
      "source": [
        "arr=np.random.randint(1,1000,(100))\n",
        "print(np.mean(a))\n",
        "print(np.median(a))\n",
        "print(np.var(a))\n",
        "print(np.std(a))"
      ],
      "metadata": {
        "colab": {
          "base_uri": "https://localhost:8080/"
        },
        "id": "StQlLFfNYG2_",
        "outputId": "99d6b2cc-31ef-4ee5-af88-100cbd93f0b9"
      },
      "execution_count": null,
      "outputs": [
        {
          "output_type": "stream",
          "name": "stdout",
          "text": [
            "6.375\n",
            "7.0\n",
            "4.484375\n",
            "2.117634293262177\n"
          ]
        }
      ]
    },
    {
      "cell_type": "markdown",
      "source": [
        "**Generate an array of 50 random numbers between 1 and 100. Find the 25th and 75th percentiles of the\n",
        "dataset.**\n"
      ],
      "metadata": {
        "id": "S9mXjmqCXPB_"
      }
    },
    {
      "cell_type": "code",
      "source": [
        "arr=np.random.randint(1,100,(50,))\n",
        "print(np.percentile(arr,25))\n",
        "print(np.percentile(arr,75))"
      ],
      "metadata": {
        "colab": {
          "base_uri": "https://localhost:8080/"
        },
        "id": "1_N2O7FzXYie",
        "outputId": "903341b1-a31d-49b0-a617-ac5d004a5dc1"
      },
      "execution_count": null,
      "outputs": [
        {
          "output_type": "stream",
          "name": "stdout",
          "text": [
            "28.0\n",
            "73.25\n"
          ]
        }
      ]
    },
    {
      "cell_type": "markdown",
      "source": [
        "**Create two arrays representing two sets of variables. Compute the correlation coefficient between these\n",
        "arrays using NumPy's `corrcoef` function.**"
      ],
      "metadata": {
        "id": "taEH6w9zW797"
      }
    },
    {
      "cell_type": "code",
      "source": [
        "a=np.random.randint(1,10,(2,4))\n",
        "b=np.random.randint(1,10,(4,4))\n",
        "np.corrcoef(a,b)"
      ],
      "metadata": {
        "colab": {
          "base_uri": "https://localhost:8080/"
        },
        "id": "3fNtLtewXBGO",
        "outputId": "02704e20-7b3d-455c-bad1-c28eaab32600"
      },
      "execution_count": null,
      "outputs": [
        {
          "output_type": "execute_result",
          "data": {
            "text/plain": [
              "array([[ 1.        , -0.6882472 ,  0.20751434,  0.7806311 , -0.8705715 ,\n",
              "         0.74926865],\n",
              "       [-0.6882472 ,  1.        , -0.30151134, -0.10976426,  0.31622777,\n",
              "        -0.81649658],\n",
              "       [ 0.20751434, -0.30151134,  1.        ,  0.23166619, -0.38138504,\n",
              "         0.73854895],\n",
              "       [ 0.7806311 , -0.10976426,  0.23166619,  1.        , -0.97189419,\n",
              "         0.44811071],\n",
              "       [-0.8705715 ,  0.31622777, -0.38138504, -0.97189419,  1.        ,\n",
              "        -0.64549722],\n",
              "       [ 0.74926865, -0.81649658,  0.73854895,  0.44811071, -0.64549722,\n",
              "         1.        ]])"
            ]
          },
          "metadata": {},
          "execution_count": 182
        }
      ]
    },
    {
      "cell_type": "markdown",
      "source": [
        "**Create two matrices and perform matrix multiplication using NumPy's `dot` function.**"
      ],
      "metadata": {
        "id": "jIe6rD51Wi_f"
      }
    },
    {
      "cell_type": "code",
      "source": [
        "a=np.random.randint(1,10,(2,4))\n",
        "b=np.random.randint(1,10,(4,4))\n",
        "a@b"
      ],
      "metadata": {
        "colab": {
          "base_uri": "https://localhost:8080/"
        },
        "id": "GeKjo5TtWl8G",
        "outputId": "e7785218-d7e5-4598-ac66-af022ff76cf7"
      },
      "execution_count": null,
      "outputs": [
        {
          "output_type": "execute_result",
          "data": {
            "text/plain": [
              "array([[ 82,  86,  71, 127],\n",
              "       [ 73,  87,  65, 120]])"
            ]
          },
          "metadata": {},
          "execution_count": 181
        }
      ]
    },
    {
      "cell_type": "markdown",
      "source": [
        "**Create an array of 50 integers between 10 and 1000. Calculate the 10th, 50th (median), and 90th\n",
        "percentiles along with the first and third quartiles.**"
      ],
      "metadata": {
        "id": "nK-D08TBV2a1"
      }
    },
    {
      "cell_type": "code",
      "source": [
        "a=np.random.randint(10,100,(50))\n",
        "print(np.percentile(a,50))\n",
        "print(np.percentile(a,10))\n",
        "print(np.percentile(a,90))\n",
        "print(\"-----quartile-----\")\n",
        "print(\"first quartile\",np.percentile(a,25))\n",
        "print(\"third quartile\",np.percentile(a,75))"
      ],
      "metadata": {
        "colab": {
          "base_uri": "https://localhost:8080/"
        },
        "id": "fzPm9z_AV3AD",
        "outputId": "842010fa-61e6-46a7-acb5-d3676deb9b34"
      },
      "execution_count": null,
      "outputs": [
        {
          "output_type": "stream",
          "name": "stdout",
          "text": [
            "52.5\n",
            "19.300000000000004\n",
            "85.1\n",
            "-----quartile-----\n",
            "first quartile 34.25\n",
            "third quartile 72.5\n"
          ]
        }
      ]
    },
    {
      "cell_type": "markdown",
      "source": [
        "**Create a NumPy array of integers and find the index of a specific element.**"
      ],
      "metadata": {
        "id": "imYC7WDDUg0P"
      }
    },
    {
      "cell_type": "code",
      "source": [
        "arr=np.array([1,2,3,4,5])\n",
        "np.where(arr==3)"
      ],
      "metadata": {
        "id": "473oZQNLIooP",
        "colab": {
          "base_uri": "https://localhost:8080/"
        },
        "outputId": "98916c96-339f-4eb2-94df-d4782c39ed23"
      },
      "execution_count": null,
      "outputs": [
        {
          "output_type": "execute_result",
          "data": {
            "text/plain": [
              "(array([2]),)"
            ]
          },
          "metadata": {},
          "execution_count": 178
        }
      ]
    },
    {
      "cell_type": "markdown",
      "source": [
        "**Generate a random NumPy array and sort it in ascending order.**"
      ],
      "metadata": {
        "id": "PMgtMLUSURo3"
      }
    },
    {
      "cell_type": "code",
      "source": [
        "arr=np.random.random(5)\n",
        "np.sort(arr)"
      ],
      "metadata": {
        "id": "_VK3R3s3JOVb",
        "colab": {
          "base_uri": "https://localhost:8080/"
        },
        "outputId": "ed005f00-82b3-4fe6-9bff-73761cdf533d"
      },
      "execution_count": null,
      "outputs": [
        {
          "output_type": "execute_result",
          "data": {
            "text/plain": [
              "array([0.04926686, 0.31040844, 0.53592559, 0.88708257, 0.89019472])"
            ]
          },
          "metadata": {},
          "execution_count": 173
        }
      ]
    },
    {
      "cell_type": "markdown",
      "source": [
        "**Filter elements >20  in the given NumPy array.**\n",
        "\n",
        "\n"
      ],
      "metadata": {
        "id": "RmSMw8onTw6m"
      }
    },
    {
      "cell_type": "code",
      "source": [
        "arr = np.array([12, 25, 6, 42, 8, 30])\n",
        "list(filter(lambda x:x>20,arr))"
      ],
      "metadata": {
        "colab": {
          "base_uri": "https://localhost:8080/"
        },
        "id": "vKr9CuBxTJ4v",
        "outputId": "f6346aa2-df31-4e01-bbf8-fb99a1075e7e"
      },
      "execution_count": null,
      "outputs": [
        {
          "output_type": "execute_result",
          "data": {
            "text/plain": [
              "[25, 42, 30]"
            ]
          },
          "metadata": {},
          "execution_count": 172
        }
      ]
    },
    {
      "cell_type": "markdown",
      "source": [
        "**Filter elements which are divisible by 3 from a given NumPy array.**"
      ],
      "metadata": {
        "id": "8OUagzoPTKWY"
      }
    },
    {
      "cell_type": "code",
      "source": [
        "arr = np.array([1, 5, 8, 12, 15])\n",
        "def filter_cond(a):\n",
        "  if a%3==0:\n",
        "    return True\n",
        "  else:\n",
        "    return False\n",
        "list(filter(filter_cond,arr))"
      ],
      "metadata": {
        "colab": {
          "base_uri": "https://localhost:8080/"
        },
        "id": "OxwDJADxSh2t",
        "outputId": "2dbda3b3-934a-4f40-90fb-4bafe0cc5ce8"
      },
      "execution_count": null,
      "outputs": [
        {
          "output_type": "execute_result",
          "data": {
            "text/plain": [
              "[12, 15]"
            ]
          },
          "metadata": {},
          "execution_count": 171
        }
      ]
    },
    {
      "cell_type": "markdown",
      "source": [
        "**Filter elements which are ≥ 20 and ≤ 40 from a given NumPy array.**"
      ],
      "metadata": {
        "id": "-4yv04HESiZe"
      }
    },
    {
      "cell_type": "code",
      "source": [
        "a=np.arange(20,50)"
      ],
      "metadata": {
        "id": "T0Jd4i-qTB7R"
      },
      "execution_count": null,
      "outputs": []
    },
    {
      "cell_type": "code",
      "source": [
        "def filtercond(a):\n",
        "  if a>=20 and a<=40:\n",
        "    return True\n",
        "  else:\n",
        "    return False\n",
        "list(filter(filtercond,a))"
      ],
      "metadata": {
        "id": "_7OhNMYPJOSN",
        "colab": {
          "base_uri": "https://localhost:8080/"
        },
        "outputId": "73da5136-7e8d-492e-c39e-e48c93939326"
      },
      "execution_count": null,
      "outputs": [
        {
          "output_type": "execute_result",
          "data": {
            "text/plain": [
              "[20,\n",
              " 21,\n",
              " 22,\n",
              " 23,\n",
              " 24,\n",
              " 25,\n",
              " 26,\n",
              " 27,\n",
              " 28,\n",
              " 29,\n",
              " 30,\n",
              " 31,\n",
              " 32,\n",
              " 33,\n",
              " 34,\n",
              " 35,\n",
              " 36,\n",
              " 37,\n",
              " 38,\n",
              " 39,\n",
              " 40]"
            ]
          },
          "metadata": {},
          "execution_count": 169
        }
      ]
    },
    {
      "cell_type": "markdown",
      "source": [
        "**For the given NumPy array, check its byte order using the `dtype` attribute byteorder.**"
      ],
      "metadata": {
        "id": "pIqaFIRCSSrv"
      }
    },
    {
      "cell_type": "code",
      "source": [
        "arr = np.array([1, 2, 3])\n",
        "arr.dtype.byteorder"
      ],
      "metadata": {
        "id": "qWEkmD15JOPJ",
        "colab": {
          "base_uri": "https://localhost:8080/",
          "height": 36
        },
        "outputId": "cb99db84-dc2f-4c0b-d1e0-1fc6c144dc7a"
      },
      "execution_count": null,
      "outputs": [
        {
          "output_type": "execute_result",
          "data": {
            "text/plain": [
              "'='"
            ],
            "application/vnd.google.colaboratory.intrinsic+json": {
              "type": "string"
            }
          },
          "metadata": {},
          "execution_count": 166
        }
      ]
    },
    {
      "cell_type": "markdown",
      "source": [
        "**For the given NumPy array, perform byte swapping in place using `byteswap()`**"
      ],
      "metadata": {
        "id": "VQIqEeicJJeO"
      }
    },
    {
      "cell_type": "code",
      "source": [
        "arr = np.array([1, 2, 3], dtype=np.int32)"
      ],
      "metadata": {
        "id": "hGOatRV4JOMS"
      },
      "execution_count": null,
      "outputs": []
    },
    {
      "cell_type": "code",
      "source": [
        "arr.byteswap()"
      ],
      "metadata": {
        "id": "F-Dgn4CwJOJc",
        "colab": {
          "base_uri": "https://localhost:8080/"
        },
        "outputId": "e7873291-4380-4099-b4d4-9cfce88ff96d"
      },
      "execution_count": null,
      "outputs": [
        {
          "output_type": "execute_result",
          "data": {
            "text/plain": [
              "array([16777216, 33554432, 50331648], dtype=int32)"
            ]
          },
          "metadata": {},
          "execution_count": 136
        }
      ]
    },
    {
      "cell_type": "markdown",
      "source": [
        " **For the given NumPy array, swap its byte order without modifying the original array using\n",
        "`newbyteorder()`.**"
      ],
      "metadata": {
        "id": "KL_ZpYW8NdqO"
      }
    },
    {
      "cell_type": "code",
      "source": [
        "arr = np.array([1, 2, 3], dtype=np.int32)\n",
        "\n"
      ],
      "metadata": {
        "id": "65aS66trJOGa"
      },
      "execution_count": null,
      "outputs": []
    },
    {
      "cell_type": "code",
      "source": [
        "arr.dtype.byteorder"
      ],
      "metadata": {
        "id": "lT290cmOJODr",
        "colab": {
          "base_uri": "https://localhost:8080/",
          "height": 36
        },
        "outputId": "10ac3db6-655c-4f7d-a43d-1801e0e9e259"
      },
      "execution_count": null,
      "outputs": [
        {
          "output_type": "execute_result",
          "data": {
            "text/plain": [
              "'='"
            ],
            "application/vnd.google.colaboratory.intrinsic+json": {
              "type": "string"
            }
          },
          "metadata": {},
          "execution_count": 138
        }
      ]
    },
    {
      "cell_type": "code",
      "source": [
        "brr=arr.byteswap().newbyteorder('>')"
      ],
      "metadata": {
        "id": "uqhwnbUQJOA6"
      },
      "execution_count": null,
      "outputs": []
    },
    {
      "cell_type": "code",
      "source": [
        "brr.dtype"
      ],
      "metadata": {
        "colab": {
          "base_uri": "https://localhost:8080/"
        },
        "id": "6SS_eT69N3B3",
        "outputId": "0768ee9a-8ce5-46ee-825c-dd3d34b89d88"
      },
      "execution_count": null,
      "outputs": [
        {
          "output_type": "execute_result",
          "data": {
            "text/plain": [
              "dtype('>i4')"
            ]
          },
          "metadata": {},
          "execution_count": 149
        }
      ]
    },
    {
      "cell_type": "markdown",
      "source": [
        "**For the given NumPy array and swap its byte order conditionally based on system endianness using\n",
        "`newbyteorder()`.**\n",
        "\n"
      ],
      "metadata": {
        "id": "Zk-PqgGGPZ3W"
      }
    },
    {
      "cell_type": "code",
      "source": [
        "arr = np.array([1, 2, 3], dtype=np.int32)\n",
        "arr.dtype.byteorder"
      ],
      "metadata": {
        "colab": {
          "base_uri": "https://localhost:8080/",
          "height": 36
        },
        "id": "evcOXFbcPklW",
        "outputId": "ab67abe2-c325-42ae-a35a-8422395cb530"
      },
      "execution_count": null,
      "outputs": [
        {
          "output_type": "execute_result",
          "data": {
            "text/plain": [
              "'='"
            ],
            "application/vnd.google.colaboratory.intrinsic+json": {
              "type": "string"
            }
          },
          "metadata": {},
          "execution_count": 156
        }
      ]
    },
    {
      "cell_type": "code",
      "source": [
        "if arr.dtype.byteorder==\">\":\n",
        "  swaparr=arr.byteswap().newbyteorder('<')\n",
        "else:\n",
        "  swaparr=arr.byteswap().newbyteorder('>')\n",
        "swaparr.dtype.byteorder"
      ],
      "metadata": {
        "colab": {
          "base_uri": "https://localhost:8080/",
          "height": 36
        },
        "id": "OGqQmns1PnxV",
        "outputId": "d3adc38f-2cae-44ed-8a23-357b068adc2c"
      },
      "execution_count": null,
      "outputs": [
        {
          "output_type": "execute_result",
          "data": {
            "text/plain": [
              "'>'"
            ],
            "application/vnd.google.colaboratory.intrinsic+json": {
              "type": "string"
            }
          },
          "metadata": {},
          "execution_count": 155
        }
      ]
    },
    {
      "cell_type": "markdown",
      "source": [
        " **For the given NumPy array, check if byte swapping is necessary for the current system using `dtype`\n",
        "attribute `byteorder`.**"
      ],
      "metadata": {
        "id": "yiMAJ0QoQlg-"
      }
    },
    {
      "cell_type": "code",
      "source": [
        "arr = np.array([1, 2, 3], dtype=np.int32)\n",
        "import sys\n",
        "sys.byteorder"
      ],
      "metadata": {
        "colab": {
          "base_uri": "https://localhost:8080/",
          "height": 36
        },
        "id": "DxF0HQ9GQt9t",
        "outputId": "d96b7354-e7e1-4747-fd1f-f244f5afa8a6"
      },
      "execution_count": null,
      "outputs": [
        {
          "output_type": "execute_result",
          "data": {
            "text/plain": [
              "'little'"
            ],
            "application/vnd.google.colaboratory.intrinsic+json": {
              "type": "string"
            }
          },
          "metadata": {},
          "execution_count": 161
        }
      ]
    },
    {
      "cell_type": "code",
      "source": [
        "if arr.dtype.byteorder==\"=\":\n",
        "  print(\"swapping is not necessary\")\n",
        "elif (arr.dtype.byteorder==\">\" and sys.byteorder==\"little\") or (arr.dtype.byteorder==\"<\" or sys.byteorder==\"big\"):\n",
        "  print(\"byte swap is nesscessary\")\n",
        "else:\n",
        "  print(\"not nesscessary\")"
      ],
      "metadata": {
        "colab": {
          "base_uri": "https://localhost:8080/"
        },
        "id": "OZZsRFtJQxC7",
        "outputId": "b1987848-2f2e-4666-d9ff-d1a9e2b83f2e"
      },
      "execution_count": null,
      "outputs": [
        {
          "output_type": "stream",
          "name": "stdout",
          "text": [
            "swapping is not necessary\n"
          ]
        }
      ]
    },
    {
      "cell_type": "markdown",
      "source": [
        "**Create a NumPy array `arr1` with values from 1 to 10. Create a copy of `arr1` named `copy_arr` and modify\n",
        "an element in `copy_arr`. Check if modifying `copy_arr` affects `arr1`.**"
      ],
      "metadata": {
        "id": "FW413ChsIQdr"
      }
    },
    {
      "cell_type": "code",
      "source": [
        "arr1=np.arange(1,10+1)\n",
        "copy_arr=arr1#shallow copy\n",
        "print(\"before modification\",arr1)\n",
        "print(\"before modification\",copy_arr)\n",
        "copy_arr[0]=2\n",
        "print(\"after modification\",arr1)\n",
        "print(\"after modification\",copy_arr)\n",
        "\n",
        "#deepcopy\n",
        "arr1=np.arange(1,10+1)\n",
        "copy_arr=arr1.copy()#deep copy\n",
        "print(\"before modification\",arr1)\n",
        "print(\"before modification\",copy_arr)\n",
        "copy_arr[0]=2\n",
        "print(\"after modification\",arr1)\n",
        "print(\"after modification\",copy_arr)"
      ],
      "metadata": {
        "id": "CIIp59zrJN-R",
        "colab": {
          "base_uri": "https://localhost:8080/"
        },
        "outputId": "fd5093c6-05c0-453f-dc05-0a465ddd7fe0"
      },
      "execution_count": null,
      "outputs": [
        {
          "output_type": "stream",
          "name": "stdout",
          "text": [
            "before modification [ 1  2  3  4  5  6  7  8  9 10]\n",
            "before modification [ 1  2  3  4  5  6  7  8  9 10]\n",
            "after modification [ 2  2  3  4  5  6  7  8  9 10]\n",
            "after modification [ 2  2  3  4  5  6  7  8  9 10]\n",
            "before modification [ 1  2  3  4  5  6  7  8  9 10]\n",
            "before modification [ 1  2  3  4  5  6  7  8  9 10]\n",
            "after modification [ 1  2  3  4  5  6  7  8  9 10]\n",
            "after modification [ 2  2  3  4  5  6  7  8  9 10]\n"
          ]
        }
      ]
    },
    {
      "cell_type": "markdown",
      "source": [
        "**Create a 2D NumPy array `matrix` of shape (3, 3) with random integers. Extract a slice `view_slice` from\n",
        "the matrix. Modify an element in `view_slice` and observe if it changes the original `matrix**"
      ],
      "metadata": {
        "id": "aTEV50JRJN7L"
      }
    },
    {
      "cell_type": "code",
      "source": [
        "arr=np.random.randint(1,5,(3,3))\n",
        "print(arr)\n",
        "view_slice=arr[1:2,2]\n",
        "print(view_slice)\n",
        "view_slice[0]=1\n",
        "print(arr)"
      ],
      "metadata": {
        "colab": {
          "base_uri": "https://localhost:8080/"
        },
        "id": "vPTy_kVVHs53",
        "outputId": "bf701cf8-d292-46af-abfa-e1d4913f2c13"
      },
      "execution_count": null,
      "outputs": [
        {
          "output_type": "stream",
          "name": "stdout",
          "text": [
            "[[4 4 2]\n",
            " [3 1 4]\n",
            " [4 3 1]]\n",
            "[4]\n",
            "[[4 4 2]\n",
            " [3 1 1]\n",
            " [4 3 1]]\n"
          ]
        }
      ]
    },
    {
      "cell_type": "markdown",
      "source": [
        " **Create a NumPy array `array_a` of shape (4, 3) with sequential integers from 1 to 12. Extract a slice\n",
        "`view_b` from `array_a` and broadcast the addition of 5 to view_b. Check if it alters the orignal array_a**"
      ],
      "metadata": {
        "id": "YI6czSxnJN4Q"
      }
    },
    {
      "cell_type": "code",
      "source": [
        "array_a=np.arange(1,12+1).reshape(4,3)\n",
        "array_a"
      ],
      "metadata": {
        "colab": {
          "base_uri": "https://localhost:8080/"
        },
        "id": "c4YYfrD9GAlf",
        "outputId": "0dc86f8a-bef3-4dee-f9d4-ef2a3e5fb6e3"
      },
      "execution_count": null,
      "outputs": [
        {
          "output_type": "execute_result",
          "data": {
            "text/plain": [
              "array([[ 1,  2,  3],\n",
              "       [ 4,  5,  6],\n",
              "       [ 7,  8,  9],\n",
              "       [10, 11, 12]])"
            ]
          },
          "metadata": {},
          "execution_count": 129
        }
      ]
    },
    {
      "cell_type": "code",
      "source": [
        "veiw_b=array_a[2:,1]"
      ],
      "metadata": {
        "id": "--F1iJDGGKOE"
      },
      "execution_count": null,
      "outputs": []
    },
    {
      "cell_type": "code",
      "source": [
        "veiw_b+5"
      ],
      "metadata": {
        "colab": {
          "base_uri": "https://localhost:8080/"
        },
        "id": "hrLCMOgQGzZ4",
        "outputId": "6bc55ac2-325f-42fd-e412-bd534eac1c97"
      },
      "execution_count": null,
      "outputs": [
        {
          "output_type": "execute_result",
          "data": {
            "text/plain": [
              "array([13, 16])"
            ]
          },
          "metadata": {},
          "execution_count": 127
        }
      ]
    },
    {
      "cell_type": "code",
      "source": [
        "array_a"
      ],
      "metadata": {
        "colab": {
          "base_uri": "https://localhost:8080/"
        },
        "id": "jHhpyYSKHSSj",
        "outputId": "86908e4a-6d0f-4aec-9496-68bd35680179"
      },
      "execution_count": null,
      "outputs": [
        {
          "output_type": "execute_result",
          "data": {
            "text/plain": [
              "array([[ 1,  2,  3],\n",
              "       [ 4,  5,  6],\n",
              "       [ 7,  8,  9],\n",
              "       [10, 11, 12]])"
            ]
          },
          "metadata": {},
          "execution_count": 128
        }
      ]
    },
    {
      "cell_type": "markdown",
      "source": [
        "**Create a NumPy array `orig_array` of shape (2, 4) with values from 1 to 8. Create a reshaped view\n",
        "`reshaped_view` of shape (4, 2) from orig_array. Modify an element in `reshaped_view` and check if it\n",
        "reflects changes in the original `orig_array`.**"
      ],
      "metadata": {
        "id": "vS_jg0BdMnAj"
      }
    },
    {
      "cell_type": "code",
      "source": [
        "orig_array=np.arange(1,9).reshape(2,4)\n",
        "reshape_view=orig_array.view().reshape(4,2)\n",
        "print(orig_array,\"before any change\")\n",
        "print(reshape_view,\"before any change\")\n",
        "reshape_view[0]=1\n",
        "print(orig_array,\"after change\")\n",
        "print(reshape_view,\"after change\")\n"
      ],
      "metadata": {
        "colab": {
          "base_uri": "https://localhost:8080/"
        },
        "id": "pRJOukJAJN1c",
        "outputId": "fe607105-1e1a-470a-91db-b2f53c2c63a6"
      },
      "execution_count": null,
      "outputs": [
        {
          "output_type": "stream",
          "name": "stdout",
          "text": [
            "[[1 2 3 4]\n",
            " [5 6 7 8]] before any change\n",
            "[[1 2]\n",
            " [3 4]\n",
            " [5 6]\n",
            " [7 8]] before any change\n",
            "[[1 1 3 4]\n",
            " [5 6 7 8]] after change\n",
            "[[1 1]\n",
            " [3 4]\n",
            " [5 6]\n",
            " [7 8]] after change\n"
          ]
        }
      ]
    },
    {
      "cell_type": "markdown",
      "source": [
        "**Create a NumPy array `data` of shape (3, 4) with random integers. Extract a copy `data_copy` of\n",
        "elements greater than 5. Modify an element in `data_copy` and verify if it affects the original `data`.**"
      ],
      "metadata": {
        "id": "Gju66ImnJNx8"
      }
    },
    {
      "cell_type": "code",
      "source": [
        "data=np.arange(1,13).reshape(3,4)\n",
        "print(data)\n",
        "data_copy=data[data>5]\n",
        "print(data_copy)\n",
        "data_copy[0]=1\n",
        "print(data_copy)\n",
        "print(data)"
      ],
      "metadata": {
        "colab": {
          "base_uri": "https://localhost:8080/"
        },
        "id": "GiDZ2pQ6LxN9",
        "outputId": "1954fd29-cb01-43fb-a760-16aa688183df"
      },
      "execution_count": null,
      "outputs": [
        {
          "output_type": "stream",
          "name": "stdout",
          "text": [
            "[[ 1  2  3  4]\n",
            " [ 5  6  7  8]\n",
            " [ 9 10 11 12]]\n",
            "[ 6  7  8  9 10 11 12]\n",
            "[ 1  7  8  9 10 11 12]\n",
            "[[ 1  2  3  4]\n",
            " [ 5  6  7  8]\n",
            " [ 9 10 11 12]]\n"
          ]
        }
      ]
    },
    {
      "cell_type": "markdown",
      "source": [
        "**Create two matrices A and B of identical shape containing integers and perform addition and subtraction\n",
        "operations between them**"
      ],
      "metadata": {
        "id": "w1Xr_I1ZJNu5"
      }
    },
    {
      "cell_type": "code",
      "source": [
        "A=np.arange(1,13).reshape(3,4)\n",
        "B=np.arange(13,25).reshape(3,4)\n",
        "print(A+B)\n",
        "print(A-B)"
      ],
      "metadata": {
        "colab": {
          "base_uri": "https://localhost:8080/"
        },
        "id": "XLxU1Q-qK12-",
        "outputId": "d41bc05e-5ded-4d36-dca3-5b7ab1f4ec65"
      },
      "execution_count": null,
      "outputs": [
        {
          "output_type": "stream",
          "name": "stdout",
          "text": [
            "[[14 16 18 20]\n",
            " [22 24 26 28]\n",
            " [30 32 34 36]]\n",
            "[[-12 -12 -12 -12]\n",
            " [-12 -12 -12 -12]\n",
            " [-12 -12 -12 -12]]\n"
          ]
        }
      ]
    },
    {
      "cell_type": "markdown",
      "source": [
        "**Generate two matrices `C` (3x2) and `D` (2x4) and perform matrix multiplication.**"
      ],
      "metadata": {
        "id": "If07Mh5RJNrx"
      }
    },
    {
      "cell_type": "code",
      "source": [
        "c=np.arange(1,7).reshape(3,2)\n",
        "d=np.arange(1,9).reshape(2,4)\n",
        "c@d\n"
      ],
      "metadata": {
        "colab": {
          "base_uri": "https://localhost:8080/"
        },
        "id": "A8Zc4iF1KUc6",
        "outputId": "648baa78-cb8b-4afd-d56b-88e822e97214"
      },
      "execution_count": null,
      "outputs": [
        {
          "output_type": "execute_result",
          "data": {
            "text/plain": [
              "array([[11, 14, 17, 20],\n",
              "       [23, 30, 37, 44],\n",
              "       [35, 46, 57, 68]])"
            ]
          },
          "metadata": {},
          "execution_count": 116
        }
      ]
    },
    {
      "cell_type": "markdown",
      "source": [
        "**Create a matrix `E` and find its transpose.**"
      ],
      "metadata": {
        "id": "jymswg0_JzwI"
      }
    },
    {
      "cell_type": "code",
      "source": [
        "E=np.random.rand(3,4)\n",
        "print(E)\n",
        "print(\"transpose of it\")\n",
        "print(E.T)"
      ],
      "metadata": {
        "colab": {
          "base_uri": "https://localhost:8080/"
        },
        "id": "u86OAxshJ2wA",
        "outputId": "7dea92e3-efce-46e2-c479-fe09e0d80a8b"
      },
      "execution_count": null,
      "outputs": [
        {
          "output_type": "stream",
          "name": "stdout",
          "text": [
            "[[0.80340014 0.46886518 0.50536581 0.61545521]\n",
            " [0.01334993 0.65251322 0.22762824 0.59629966]\n",
            " [0.40071122 0.56183581 0.18654421 0.95730216]]\n",
            "transpose of it\n",
            "[[0.80340014 0.01334993 0.40071122]\n",
            " [0.46886518 0.65251322 0.56183581]\n",
            " [0.50536581 0.22762824 0.18654421]\n",
            " [0.61545521 0.59629966 0.95730216]]\n"
          ]
        }
      ]
    },
    {
      "cell_type": "markdown",
      "source": [
        "**Generate a square matrix `F` and compute its determinant.**"
      ],
      "metadata": {
        "id": "OdzZRnRXJgQG"
      }
    },
    {
      "cell_type": "code",
      "source": [
        "F=np.eye(6)"
      ],
      "metadata": {
        "id": "BhmAkaXMJl2m"
      },
      "execution_count": null,
      "outputs": []
    },
    {
      "cell_type": "code",
      "source": [
        "np.linalg.det(F)"
      ],
      "metadata": {
        "colab": {
          "base_uri": "https://localhost:8080/"
        },
        "id": "aRKd8N99JrZ8",
        "outputId": "2c05e8cc-db39-4b58-ad3b-ca920593bf24"
      },
      "execution_count": null,
      "outputs": [
        {
          "output_type": "execute_result",
          "data": {
            "text/plain": [
              "1.0"
            ]
          },
          "metadata": {},
          "execution_count": 119
        }
      ]
    },
    {
      "cell_type": "markdown",
      "source": [
        "**Create a square matrix `G` and find its inverse.**"
      ],
      "metadata": {
        "id": "_b0KhVPsJNos"
      }
    },
    {
      "cell_type": "code",
      "source": [
        "G=np.eye(3)"
      ],
      "metadata": {
        "id": "xGoyp6ubJSyz"
      },
      "execution_count": null,
      "outputs": []
    },
    {
      "cell_type": "code",
      "source": [
        "G=G+3"
      ],
      "metadata": {
        "id": "N3d__6sIJUdp"
      },
      "execution_count": null,
      "outputs": []
    },
    {
      "cell_type": "code",
      "source": [
        "np.linalg.inv(G)"
      ],
      "metadata": {
        "colab": {
          "base_uri": "https://localhost:8080/"
        },
        "id": "O4EIgR9lJVSH",
        "outputId": "f90f8064-0c1f-4abc-b780-1353e46c6794"
      },
      "execution_count": null,
      "outputs": [
        {
          "output_type": "execute_result",
          "data": {
            "text/plain": [
              "array([[ 0.7, -0.3, -0.3],\n",
              "       [-0.3,  0.7, -0.3],\n",
              "       [-0.3, -0.3,  0.7]])"
            ]
          },
          "metadata": {},
          "execution_count": 122
        }
      ]
    },
    {
      "cell_type": "code",
      "source": [],
      "metadata": {
        "id": "UAL_k6wSJZZN"
      },
      "execution_count": null,
      "outputs": []
    }
  ]
}